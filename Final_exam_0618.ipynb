{
  "cells": [
    {
      "cell_type": "markdown",
      "metadata": {
        "id": "view-in-github",
        "colab_type": "text"
      },
      "source": [
        "<a href=\"https://colab.research.google.com/github/lendy0/mcu112/blob/main/Final_exam_0618.ipynb\" target=\"_parent\"><img src=\"https://colab.research.google.com/assets/colab-badge.svg\" alt=\"Open In Colab\"/></a>"
      ]
    },
    {
      "cell_type": "markdown",
      "metadata": {
        "id": "E4n4vEyFZdDT"
      },
      "source": [
        "DB-API與底層資料庫互動示例：\n",
        "\n",
        "①程式碼 ⇆ ②使用DB-API ⇆ ③資料庫驅動程式 ⇆ ④底層資料庫(如SQLite、MySQL等)\n",
        "\n",
        "- connect\n",
        "- cursor\n",
        "- execute\n",
        "- fetchall/fetchone\n",
        "\n",
        "舉例來說，SQLite 是用C寫的一種體積很小的關聯式資料庫，它的資料庫就是一個檔案，所以經常被整合到應用程式中，在 iOS 和 Android 的 App 中都可以看到。Python 內置了 SQLite3 的驅動程式，所以，在 Python 中使用 SQLite 是不需要再安裝任何東西，就可以直接導入( import )使用，直接操作 SQLite 資料庫。\n",
        "\n",
        "要操作關聯式資料庫，首先需要建立資料庫連線，一個資料庫的連線稱為一個 Connection。透過資料庫的連線，可以建立游標( Cursor )，通過 Cursor 執行 SQL 語句，然後得到執行結果。"
      ]
    },
    {
      "cell_type": "markdown",
      "metadata": {
        "id": "xi_2rha1cNE3"
      },
      "source": [
        "建立資料庫\n",
        "```python\n",
        "import sqlite3 as sqlite\n",
        "\n",
        "# connect to SQLite\n",
        "con = sqlite.connect('db_web.db')\n",
        "\n",
        "# Create a Connection\n",
        "cur = con.cursor()\n",
        "\n",
        "# Drop users table if already exsist.\n",
        "cur.execute(\"DROP TABLE IF EXISTS users\")\n",
        "\n",
        "# Create users table  in db_web database\n",
        "sql ='''CREATE TABLE \"users\" (\n",
        "    \"UID\"    INTEGER PRIMARY KEY AUTOINCREMENT,\n",
        "    \"UNAME\"    TEXT,\n",
        "    \"CONTACT\"    TEXT\n",
        ")'''\n",
        "cur.execute(sql)\n",
        "\n",
        "# commit changes\n",
        "con.commit()\n",
        "\n",
        "# close the connection\n",
        "con.close()\n",
        "```"
      ]
    },
    {
      "cell_type": "code",
      "execution_count": null,
      "metadata": {
        "id": "Hb7qtpxqZcaN"
      },
      "outputs": [],
      "source": []
    },
    {
      "cell_type": "markdown",
      "metadata": {
        "id": "mKrHJuDHenu5"
      },
      "source": [
        "# 查全部\n",
        "\n",
        "**設定 con.row_factory=sqlite.Row**\n",
        "```python\n",
        "def index():\n",
        "    con=sqlite.connect(\"db_web.db\")\n",
        "    # 設定 con.row_factory=sqlite.Row\n",
        "    con.row_factory=sqlite.Row\n",
        "    cur=con.cursor()\n",
        "    cur.execute(\"select * from users\")\n",
        "    data=cur.fetchall()\n",
        "    print(data)\n",
        "    for row in data:\n",
        "        # 可以使用欄位名稱取值\n",
        "        print(row['UID'],row['UNAME'],row['CONTACT'])\n",
        "```\n"
      ]
    },
    {
      "cell_type": "code",
      "execution_count": null,
      "metadata": {
        "id": "D2AT2jQ7lBL_"
      },
      "outputs": [],
      "source": []
    },
    {
      "cell_type": "markdown",
      "metadata": {
        "id": "8AXty0t5gWmO"
      },
      "source": [
        "\n",
        "**設定 con.row_factory=sqlite.Row** 結果\n",
        "\n",
        "```text\n",
        "[<sqlite3.Row object at 0x7c5a1375b5e0>]\n",
        "1 lendy 1234567\n",
        "```\n",
        "\n",
        "**未設定 con.row_factory=sqlite.Row 差異**\n",
        "\n",
        "```python\n",
        "def index1():\n",
        "    con=sqlite.connect(\"db_web.db\")\n",
        "    cur=con.cursor()\n",
        "    cur.execute(\"select * from users\")\n",
        "    data=cur.fetchall()\n",
        "    # 取出來是list中包含多筆tuple\n",
        "    print(data)\n",
        "    for (uid,uname,contact) in data:\n",
        "        print(uid,uname,contact)\n",
        "index1()\n",
        "```\n",
        "結果\n",
        "\n",
        "```text\n",
        "[(1, 'lendy', '1234567')]\n",
        "1 lendy 1234567\n",
        "```\n"
      ]
    },
    {
      "cell_type": "markdown",
      "metadata": {
        "id": "dYE-rHQykcpN"
      },
      "source": [
        "# 新增\n",
        "```python\n",
        "def add_user():\n",
        "    uname='lendy'\n",
        "    contact='1234567'\n",
        "    con=sqlite.connect(\"db_web.db\")\n",
        "    cur=con.cursor()\n",
        "    cur.execute(\"insert into users(UNAME,CONTACT) values (?,?)\",(uname,contact))\n",
        "    con.commit()\n",
        "```\n",
        "        \n",
        "\n"
      ]
    },
    {
      "cell_type": "code",
      "execution_count": null,
      "metadata": {
        "id": "VujR9z6alxOr"
      },
      "outputs": [],
      "source": []
    },
    {
      "cell_type": "markdown",
      "metadata": {
        "id": "6FPiErYAkjG8"
      },
      "source": [
        "# 修改\n",
        "```python\n",
        "def edit_user(uid):\n",
        "    uname='lendy1'\n",
        "    contact='12345671'\n",
        "    con=sqlite.connect(\"db_web.db\")\n",
        "    cur=con.cursor()\n",
        "    cur.execute(\"update users set UNAME=?,CONTACT=? where UID=?\",(uname,contact,uid))\n",
        "    con.commit()\n",
        "```\n",
        "\n"
      ]
    },
    {
      "cell_type": "code",
      "execution_count": null,
      "metadata": {
        "id": "KhHrjCJelyrt"
      },
      "outputs": [],
      "source": []
    },
    {
      "cell_type": "markdown",
      "metadata": {
        "id": "JY8U49xQk86a"
      },
      "source": [
        "\n",
        "# 刪除\n",
        "```python\n",
        "def delete_user(uid):\n",
        "    con=sqlite.connect(\"db_web.db\")\n",
        "    cur=con.cursor()\n",
        "    cur.execute(\"delete from users where UID=?\",(uid,))\n",
        "    con.commit()\n",
        "\n",
        "```"
      ]
    },
    {
      "cell_type": "code",
      "execution_count": null,
      "metadata": {
        "id": "AtUTEJ2ylzN0"
      },
      "outputs": [],
      "source": []
    },
    {
      "cell_type": "markdown",
      "metadata": {
        "id": "h8hvy9Rkl7NN"
      },
      "source": [
        "# 第一題、請依照下面順序輸出並截圖\n",
        "- 查全部(index())\n",
        "- 新增(add_user())\n",
        "- 查全部(index())\n",
        "- 修改(edit_user(1))\n",
        "- 查全部(index())\n",
        "- 刪除(delete_user(1))\n",
        "- 查全部(index())"
      ]
    },
    {
      "cell_type": "code",
      "execution_count": null,
      "metadata": {
        "collapsed": true,
        "id": "blE1SxOIkHpL"
      },
      "outputs": [],
      "source": []
    },
    {
      "cell_type": "code",
      "execution_count": null,
      "metadata": {
        "id": "VhfQNbH4oJXm"
      },
      "outputs": [],
      "source": []
    },
    {
      "cell_type": "code",
      "execution_count": null,
      "metadata": {
        "id": "281O3kSdn9Qh"
      },
      "outputs": [],
      "source": []
    },
    {
      "cell_type": "code",
      "execution_count": null,
      "metadata": {
        "id": "CvP0nNguoTof"
      },
      "outputs": [],
      "source": []
    },
    {
      "cell_type": "code",
      "execution_count": null,
      "metadata": {
        "id": "joVMTH3FoThL"
      },
      "outputs": [],
      "source": []
    },
    {
      "cell_type": "code",
      "execution_count": null,
      "metadata": {
        "id": "iQ29YCf0oTYZ"
      },
      "outputs": [],
      "source": []
    },
    {
      "cell_type": "code",
      "execution_count": null,
      "metadata": {
        "id": "5a8fJTn1oTGf"
      },
      "outputs": [],
      "source": []
    },
    {
      "cell_type": "markdown",
      "metadata": {
        "id": "udf-vSv3oXtz"
      },
      "source": [
        "# 第二題、安裝 ngrok 與 pyngrok"
      ]
    },
    {
      "cell_type": "markdown",
      "metadata": {
        "id": "JAH397DtohGN"
      },
      "source": [
        "**step 1、下載 ngrok client**\n",
        "\n",
        "```text\n",
        "!wget https://bin.equinox.io/c/bNyj1mQVY4c/ngrok-v3-stable-linux-amd64.tgz\n",
        "```"
      ]
    },
    {
      "cell_type": "code",
      "execution_count": null,
      "metadata": {
        "id": "fZkM46uJo6uz"
      },
      "outputs": [],
      "source": []
    },
    {
      "cell_type": "markdown",
      "metadata": {
        "id": "sMvfrf2Fo8hp"
      },
      "source": [
        "**step 2、解壓送下載的 ngrok client**\n",
        "```text\n",
        "!tar -xvf /content/ngrok-v3-stable-linux-amd64.tgz\n",
        "```"
      ]
    },
    {
      "cell_type": "code",
      "execution_count": null,
      "metadata": {
        "id": "G2OBFEbcpS1m"
      },
      "outputs": [],
      "source": []
    },
    {
      "cell_type": "markdown",
      "metadata": {
        "id": "XbKdIwzwrDF3"
      },
      "source": [
        "**step 3、置入 ngrok 的 AuthToken**\n",
        "\n",
        "Get your AuthToken from ngrok using this link:\n",
        "```text\n",
        "https://dashboard.ngrok.com/get-started/your-authtoken\n",
        "```\n",
        "在 colab 上的設定方法。\n",
        "```text\n",
        "!./ngrok config add-authtoken 2hisD7vbbDdF2md0zu1LsAp6ScI_6RbgQaSfn2XnRvdxoLxEA\n",
        "```"
      ]
    },
    {
      "cell_type": "code",
      "execution_count": null,
      "metadata": {
        "id": "AkLK5ybKrgOC"
      },
      "outputs": [],
      "source": []
    },
    {
      "cell_type": "markdown",
      "metadata": {
        "id": "rwqpL7ntp0Ok"
      },
      "source": [
        "**step 4、安裝 pyngrok**\n",
        "\n",
        "```text\n",
        "!pip install pyngrok\n",
        "```"
      ]
    },
    {
      "cell_type": "code",
      "execution_count": null,
      "metadata": {
        "id": "XbUT8yA5pzvQ"
      },
      "outputs": [],
      "source": []
    },
    {
      "cell_type": "markdown",
      "metadata": {
        "id": "i2WeViwDsIb3"
      },
      "source": [
        "**step 5、讓 Flask 可以有一個外部 URL**\n",
        "\n",
        "- 使用 pyngrok\n",
        "- 取得 外部 URL\n",
        "  - ngrok.connect(port).public_url\n",
        "\n",
        "**範例程式**\n",
        "```python\n",
        "# import Flask from flask module\n",
        "from flask import Flask\n",
        "\n",
        "# import pyngrok to run the app using ngrok\n",
        "from pyngrok import ngrok\n",
        "\n",
        "#app name\n",
        "app = Flask(__name__)\n",
        "\n",
        "port = \"5000\"\n",
        "\n",
        "# Open a ngrok tunnel to the HTTP server\n",
        "public_url = ngrok.connect(port).public_url\n",
        "print(f\" * ngrok tunnel \\\"{public_url}\\\" -> \\\"http://127.0.0.1:{port}\\\" \")\n",
        "\n",
        "@app.route(\"/\")\n",
        "def hello():\n",
        "    return \"<Title>打上你的學號</Title><h1>hello 請打上你的姓名</h1>\"\n",
        "\n",
        "if __name__ == \"__main__\":\n",
        "    app.run(port=port)\n",
        "\n",
        "```"
      ]
    },
    {
      "cell_type": "code",
      "execution_count": null,
      "metadata": {
        "id": "wEMsYRTWsDT3"
      },
      "outputs": [],
      "source": []
    },
    {
      "cell_type": "markdown",
      "metadata": {
        "id": "39ety9xBthfA"
      },
      "source": [
        "# 第三題、結合 Flask、Jinja 2、DB 做 CRUD\n",
        "\n",
        "**step 1、放入 HTML 檔案**\n",
        "- /templates\n",
        "  - /layout.html\n",
        "  - /index.html\n",
        "  - /add_user.html\n",
        "  - /edit_user.html"
      ]
    },
    {
      "cell_type": "markdown",
      "metadata": {
        "id": "etGbCB3GvKIK"
      },
      "source": [
        "**step2、執行下面範例程式**\n",
        "\n",
        "```python\n",
        "# import Flask from flask module\n",
        "from flask import Flask,render_template,request,redirect,url_for,flash\n",
        "\n",
        "from pyngrok import ngrok\n",
        "# Open a ngrok tunnel to the HTTP server\n",
        "public_url = ngrok.connect(port).public_url\n",
        "print(f\" * ngrok tunnel \\\"{public_url}\\\" -> \\\"http://127.0.0.1:{port}\\\" \")\n",
        "\n",
        "# import sqlite3\n",
        "import sqlite3 as sqlite\n",
        "\n",
        "app = Flask(__name__) #app name\n",
        "\n",
        "@app.route(\"/\")\n",
        "@app.route(\"/index\")\n",
        "def index():\n",
        "    con=sqlite.connect(\"db_web.db\")\n",
        "    con.row_factory=sqlite.Row\n",
        "    cur=con.cursor()\n",
        "    cur.execute(\"select * from users\")\n",
        "    data=cur.fetchall()\n",
        "\n",
        "    return render_template(\"index.html\",datas=data)\n",
        "\n",
        "@app.route(\"/add_user\",methods=['POST','GET'])\n",
        "def add_user():\n",
        "    if request.method=='POST':\n",
        "        uname=request.form['uname']\n",
        "        contact=request.form['contact']\n",
        "        con=sqlite.connect(\"db_web.db\")\n",
        "        cur=con.cursor()\n",
        "        cur.execute(\"insert into users(UNAME,CONTACT) values (?,?)\",(uname,contact))\n",
        "        con.commit()\n",
        "        flash('User Added','success')\n",
        "        return redirect(url_for(\"index\"))\n",
        "    return render_template(\"add_user.html\")\n",
        "\n",
        "@app.route(\"/edit_user/<string:uid>\",methods=['POST','GET'])\n",
        "def edit_user(uid):\n",
        "    if request.method=='POST':\n",
        "        uname=request.form['uname']\n",
        "        contact=request.form['contact']\n",
        "        con=sqlite.connect(\"db_web.db\")\n",
        "        cur=con.cursor()\n",
        "        cur.execute(\"update users set UNAME=?,CONTACT=? where UID=?\",(uname,contact,uid))\n",
        "        con.commit()\n",
        "        flash('User Updated','success')\n",
        "        return redirect(url_for(\"index\"))\n",
        "    con=sqlite.connect(\"db_web.db\")\n",
        "    con.row_factory=sqlite.Row\n",
        "    cur=con.cursor()\n",
        "    cur.execute(\"select * from users where UID=?\",(uid,))\n",
        "    data=cur.fetchone()\n",
        "    return render_template(\"edit_user.html\",datas=data)\n",
        "\n",
        "@app.route(\"/delete_user/<string:uid>\",methods=['GET'])\n",
        "def delete_user(uid):\n",
        "    con=sqlite.connect(\"db_web.db\")\n",
        "    cur=con.cursor()\n",
        "    cur.execute(\"delete from users where UID=?\",(uid,))\n",
        "    con.commit()\n",
        "    flash('User Deleted','warning')\n",
        "    return redirect(url_for(\"index\"))\n",
        "\n",
        "if __name__=='__main__':\n",
        "    app.secret_key='admin123'\n",
        "    app.run()\n",
        "```"
      ]
    },
    {
      "cell_type": "code",
      "execution_count": null,
      "metadata": {
        "colab": {
          "background_save": true
        },
        "id": "mx1S0GPvfeL3"
      },
      "outputs": [],
      "source": []
    }
  ],
  "metadata": {
    "colab": {
      "provenance": [],
      "authorship_tag": "ABX9TyNXNG9j96UsnNxVRYqIB8+j",
      "include_colab_link": true
    },
    "kernelspec": {
      "display_name": "Python 3",
      "name": "python3"
    },
    "language_info": {
      "name": "python"
    }
  },
  "nbformat": 4,
  "nbformat_minor": 0
}