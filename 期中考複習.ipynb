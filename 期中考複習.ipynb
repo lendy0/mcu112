{
  "nbformat": 4,
  "nbformat_minor": 0,
  "metadata": {
    "colab": {
      "provenance": [],
      "authorship_tag": "ABX9TyNjngPqOUwaLBfFmFoRazdR",
      "include_colab_link": true
    },
    "kernelspec": {
      "name": "python3",
      "display_name": "Python 3"
    },
    "language_info": {
      "name": "python"
    }
  },
  "cells": [
    {
      "cell_type": "markdown",
      "metadata": {
        "id": "view-in-github",
        "colab_type": "text"
      },
      "source": [
        "<a href=\"https://colab.research.google.com/github/lendy0/mcu112/blob/main/%E6%9C%9F%E4%B8%AD%E8%80%83%E8%A4%87%E7%BF%92.ipynb\" target=\"_parent\"><img src=\"https://colab.research.google.com/assets/colab-badge.svg\" alt=\"Open In Colab\"/></a>"
      ]
    },
    {
      "cell_type": "markdown",
      "source": [
        "# litral(字面值)\n",
        "\n",
        "https://pedia.cloud.edu.tw/Home/List?search=%E5%AD%97%E9%9D%A2%E5%80%BC\n",
        "\n",
        "Generally, literals are a notation for representing a fixed value in source code. They can also be defined as raw values or data given in variables or constants.\n",
        "\n",
        "Python has different types of literal such as:\n",
        "\n",
        "1. String literals: 'lendy\"s lin', \"lendy's lin\", <br>'''my name <br>\"\"\" is <br>lendy<br>''', <br>\n",
        "\"\"\"my name <br> '''   is <br>lendy<br>\"\"\"<br>.\n",
        "\n",
        "  Character literal is also a type of string literal where a single character is surrounded by single or double quotes.\n",
        "\n",
        "2. Numeric literals: They are immutable and there are four types of numeric literal:\n",
        "  1. Integer literals: 0b10100, 50, 0o320, 0x12b\n",
        "  2. Float literals: 24.8 and 45.0\n",
        "  3. Complex literals: 7 + 5j\n",
        "  4. Boolean literals: True, False\n",
        "4. Literal Collections\n",
        "  1. List literals: [1, 2, 3, 4, 5], ['Amit', 'kabir', 'bhaskar', 2]\n",
        "  2. Tuple literals: (2, 4, 6, 8), ('Amit', 'kabir', 'bhaskar', 2)\n",
        "  3. Dict literals: {'a': 'apple', 'b': 'ball', 'c': 'cat'}, {'name': 'amit', 'age': 20, 'ID': 20}\n",
        "  4. Set literals: {'a', 'e', 'i', 'o', 'u'}, {\"apple\", \"banana\", \"cherry\"}\n",
        "5. Special literals: None"
      ],
      "metadata": {
        "id": "QIx78SQiAaTu"
      }
    },
    {
      "cell_type": "markdown",
      "source": [
        "# sequence vs iterable\n",
        "\n",
        "A sequence is a positionally ordered collection of items. And you can refer to any item in the sequence by using its index number e.g., s[0] and s[1].\n",
        "\n",
        "An iterable is a collection of objects where you can get each element one by one. Therefore, any sequence is iterable. For example, list, string... are iterable."
      ],
      "metadata": {
        "id": "7nYRzROpCA1K"
      }
    },
    {
      "cell_type": "markdown",
      "source": [
        "# element，item and entry\n",
        "Let us start with the plain English meaning of each of these:\n",
        "\n",
        "Element: a part or aspect of something abstract, especially one that is essential or characteristic.\n",
        "Thus, they can be thought of logically connected atomic parts of a whole. E.g. Elements(Nodes) of a Tree, Elements of a HTML code(Opening tag, InnerHtml content and Closing tag)\n",
        "\n",
        "Item: an individual article or unit, especially one that is part of a list, collection, or set.\n",
        "I prefer this when the thing are logically independent like Items in a Shopping cart, Items in a bag, etc\n",
        "\n",
        "Entry: an item written or printed in a diary, list, ledger, or reference book.\n",
        "I usually use this for tables like Hash Table or Accounts(Transaction entry) or Records(recording entries in sales, etc.)\n",
        "\n",
        "Now we can't refer the items in a bag(considered as an Object in Object oriented paradigm) as entries or elements(probably not elements because the items as not constituents of the bag itself).\n",
        "\n",
        "However, in some cases like an array we can use the element or item or entry interchangeably too :)"
      ],
      "metadata": {
        "id": "y3Ar-CvyDjZL"
      }
    },
    {
      "cell_type": "markdown",
      "source": [
        "資料類型可視為是一種資料結構。\n",
        "\n",
        "在Python中內建的資料類型，主要分為以下三類:\n",
        "- 數字:int、float、bool、複數(complex number)\n",
        "- 字串(序列):str(不可修改)\n",
        "- 容器:\n",
        "  - 有順序(序列):\n",
        "    - 可修改:list(串列)\n",
        "    - 不可修改:tuple(元祖)\n",
        "  - 無順序(可修改):set、dict(字典)\n"
      ],
      "metadata": {
        "id": "y6vdO6TvXblF"
      }
    },
    {
      "cell_type": "markdown",
      "source": [
        "No1. 請設計一個串列，students，分別於index為0,2,4...處存放姓名，和index為1,3,5...處存放成績。姓名為Lendy，其成績為90、姓名為Mary，其成績為72、姓名為Bill，其成績為88和姓名為John，其成績為92。\n",
        "\n",
        "輸出姓名和成績，其格式為，姓名:成績。\n",
        "\n",
        "請依照下面程式範例與要求撰寫程式。\n",
        "\n",
        "students=[....] # index為0,2,4...處存放姓名。index為1,3,5...處存放成績\n",
        "\n",
        "for ... range(...)  # 用range，並計算串列長度(len)來進行for迴圈"
      ],
      "metadata": {
        "id": "N4bM51qyCmbj"
      }
    },
    {
      "cell_type": "code",
      "source": [],
      "metadata": {
        "id": "nY3fyow3JQKF"
      },
      "execution_count": null,
      "outputs": []
    },
    {
      "cell_type": "markdown",
      "source": [
        "No2. 請設計一個串列，students，分別於index為0,2,4...處存放姓名，和index為1,3,5...處存放成績。姓名為Lendy，其成績為90、姓名為Mary，其成績為72、姓名為Bill，其成績為88和姓名為John，其成績為92。\n",
        "\n",
        "請找出全班最高分與最低分的人，並輸出姓名和成績，其格式為，姓名:成績。\n",
        "\n",
        "請依照下面程式範例與要求撰寫程式。\n",
        "\n",
        "students=[....] # index為0,2,4...處存放姓名。index為1,3,5...處存放成績\n",
        "\n",
        "students[1::2] # 取出成績\n",
        "\n",
        "提示:index函式、slice、max和min函式。"
      ],
      "metadata": {
        "id": "H8vKbBBfK6i4"
      }
    },
    {
      "cell_type": "code",
      "source": [],
      "metadata": {
        "id": "ylKc-8n5O61-"
      },
      "execution_count": null,
      "outputs": []
    },
    {
      "cell_type": "markdown",
      "source": [
        "No3. 請設計一個串列，students，分別於index為0,2,4...處存放姓名，和index為1,3,5...處存放成績。姓名為Lendy，其成績為90、姓名為Mary，其成績為72、姓名為Bill，其成績為88和姓名為John，其成績為92。\n",
        "\n",
        "請找出全班最高分與最低分的人，並輸出姓名和成績，其格式為，姓名:成績。\n",
        "\n",
        "請依照下面程式範例與要求撰寫程式。\n",
        "\n",
        "students=[....] # index為0,2,4...處存放姓名。index為1,3,5...處存放成績\n",
        "\n",
        "students[1::2] # 取出成績\n",
        "\n",
        "提示:index函式、slice和sort函式。"
      ],
      "metadata": {
        "id": "kEM9yCfwNDGZ"
      }
    },
    {
      "cell_type": "code",
      "source": [],
      "metadata": {
        "id": "5RpE_2wCTG1N"
      },
      "execution_count": null,
      "outputs": []
    },
    {
      "cell_type": "markdown",
      "source": [
        "No4. 請設計一個串列，students，分別於index為0,2,4...處存放姓名，和index為1,3,5...處存放成績。姓名為Lendy，其成績為90、姓名為Mary，其成績為72、姓名為Bill，其成績為88和姓名為John，其成績為92。\n",
        "\n",
        "請從最低分到最高分，輸出姓名和成績。再從最高分到最低分，輸出姓名和成績，其格式為，姓名:成績。\n",
        "\n",
        "請依照下面程式範例與要求撰寫程式。\n",
        "\n",
        "students=[....] # index為0,2,4...處存放姓名。index為1,3,5...處存放成績\n",
        "\n",
        "提示:index函式、slice和sort函式。"
      ],
      "metadata": {
        "id": "5rzVo8T_uPF9"
      }
    },
    {
      "cell_type": "code",
      "source": [],
      "metadata": {
        "id": "Wq_penDHuTcv"
      },
      "execution_count": null,
      "outputs": []
    },
    {
      "cell_type": "markdown",
      "source": [
        "No5. 請設計一個串列，students，分別於index為0,2,4...處存放姓名，和index為1,3,5...處存放成績。姓名為Lendy，其成績為90、姓名為Mary，其成績為72、姓名為Bill，其成績為88和姓名為John，其成績為92。\n",
        "\n",
        "請從最低分到最高分，輸出姓名和成績。再從最高分到最低分，輸出姓名和成績，其格式為，姓名:成績。\n",
        "\n",
        "請依照下面程式範例與要求撰寫程式。\n",
        "\n",
        "students=[....] # index為0,2,4...處存放姓名。index為1,3,5...處存放成績\n",
        "\n",
        "提示:index函式、slice、sort和reverse函式。"
      ],
      "metadata": {
        "id": "uIVLo400bCPr"
      }
    },
    {
      "cell_type": "code",
      "source": [],
      "metadata": {
        "id": "5GsOyU_AbOvS"
      },
      "execution_count": null,
      "outputs": []
    },
    {
      "cell_type": "markdown",
      "source": [
        "No6.\n",
        "請設計兩個串列，names和scores，分別存放姓名和成績。姓名為Lendy，其成績為90、姓名為Mary，其成績為72、姓名為Bill，其成績為88和姓名為John，其成績為92。\n",
        "\n",
        "輸出姓名和成績，其格式為，姓名:成績。\n",
        "\n",
        "請依照下面程式範例與要求撰寫程式。\n",
        "```python\n",
        "names=[....] # 存放姓名\n",
        "scores=[....] # 存放成績\n",
        "\n",
        "for ... range(...)  # 用range，並計算串列長度(len)來進行for迴圈\n",
        "```"
      ],
      "metadata": {
        "id": "MQxLDtvAmoco"
      }
    },
    {
      "cell_type": "code",
      "source": [],
      "metadata": {
        "id": "oSC92m8UoNm7"
      },
      "execution_count": null,
      "outputs": []
    },
    {
      "cell_type": "markdown",
      "source": [
        "No7.\n",
        "請設計兩個串列，names和scores，分別存放姓名和成績。姓名為Lendy，其成績為90、姓名為Mary，其成績為72、姓名為Bill，其成績為88和姓名為John，其成績為92。\n",
        "\n",
        "輸出姓名和成績，其格式為，姓名:成績。\n",
        "\n",
        "請依照下面程式範例與要求撰寫程式。\n",
        "```python\n",
        "names=list(...) # 存放姓名\n",
        "scores=list(...) # 存放成績\n",
        "\n",
        "for ... range(...)  # 用range，並計算串列長度來進行for迴圈\n",
        "```"
      ],
      "metadata": {
        "id": "ilh3jo0rn6K8"
      }
    },
    {
      "cell_type": "code",
      "source": [],
      "metadata": {
        "id": "_6noXadynl9o"
      },
      "execution_count": null,
      "outputs": []
    },
    {
      "cell_type": "markdown",
      "source": [
        "No8. 請設計兩個串列，names和scores，分別存放姓名和成績。姓名為Lendy，其成績為90、姓名為Mary，其成績為72、姓名為Bill，其成績為88和姓名為John，其成績為92。\n",
        "\n",
        "請計算全班平均。\n"
      ],
      "metadata": {
        "id": "UX7UX-P9qY-h"
      }
    },
    {
      "cell_type": "code",
      "source": [],
      "metadata": {
        "id": "41HamrQGq0mQ"
      },
      "execution_count": null,
      "outputs": []
    },
    {
      "cell_type": "markdown",
      "source": [
        "No9. 請設計兩個串列，names和scores，分別存放姓名和成績。姓名為Lendy，其成績為90、姓名為Mary，其成績為72、姓名為Bill，其成績為88和姓名為John，其成績為92。\n",
        "\n",
        "請找出全班最高分與最低分的人，並輸出姓名和成績，其格式為:\n",
        "\n",
        "最高分:姓名:成績。\n",
        "\n",
        "最低分:姓名:成績。\n",
        "\n",
        "提示:index方法"
      ],
      "metadata": {
        "id": "KnUz3xIvoxuC"
      }
    },
    {
      "cell_type": "code",
      "source": [],
      "metadata": {
        "id": "mYHh3zzzrd25"
      },
      "execution_count": null,
      "outputs": []
    },
    {
      "cell_type": "markdown",
      "source": [
        "No10. 請設計兩個串列，names和scores，分別存放姓名和成績。姓名為Lendy，其成績為90、姓名為Mary，其成績為72、姓名為Bill，其成績為88和姓名為John，其成績為92。\n",
        "\n",
        "請從最低分到最高分，輸出姓名和成績。再從最高分到最低分，輸出姓名和成績。\n",
        "請使用sorted方法。\n",
        "\n",
        "建議:建立先的變數scores_sorted代表排序後的scores。\n"
      ],
      "metadata": {
        "id": "rWEM9Ocrr9ia"
      }
    },
    {
      "cell_type": "code",
      "source": [],
      "metadata": {
        "id": "JSQLOeKZsamW"
      },
      "execution_count": null,
      "outputs": []
    },
    {
      "cell_type": "markdown",
      "source": [
        "No11. 請設計兩個串列，names和scores，分別存放姓名和成績。姓名為Lendy，其成績為90、姓名為Mary，其成績為72、姓名為Bill，其成績為88和姓名為John，其成績為92。\n",
        "\n",
        "請從最低分到最高分，輸出姓名和成績。再從最高分到最低分，輸出姓名和成績。 請使用sorted和reversed方法。"
      ],
      "metadata": {
        "id": "hNavp4gctQiq"
      }
    },
    {
      "cell_type": "code",
      "source": [],
      "metadata": {
        "id": "IP0A_R9Xta_O"
      },
      "execution_count": null,
      "outputs": []
    },
    {
      "cell_type": "markdown",
      "source": [
        "No12. 請設計兩個串列，names和scores，分別存放姓名和成績。姓名為Lendy，其成績為90、姓名為Mary，其成績為72、姓名為Bill，其成績為88和姓名為John，其成績為92。\n",
        "\n",
        "請從最低分到最高分，輸出姓名和成績。再從最高分到最低分，輸出姓名和成績。 請使用sort方法。\n",
        "\n",
        "提示:適切使用copy()"
      ],
      "metadata": {
        "id": "Wr93p12puVPz"
      }
    },
    {
      "cell_type": "code",
      "source": [],
      "metadata": {
        "id": "turD6U2EuTGG"
      },
      "execution_count": null,
      "outputs": []
    },
    {
      "cell_type": "markdown",
      "source": [
        "No13. 請設計兩個串列，names和scores，分別存放姓名和成績。姓名為Lendy，其成績為90、姓名為Mary，其成績為72、姓名為Bill，其成績為88和姓名為John，其成績為92。\n",
        "\n",
        "請從最低分到最高分，輸出姓名和成績。再從最高分到最低分，輸出姓名和成績。 請使用sort和reverse方法。\n",
        "\n",
        "提示:適切使用copy()"
      ],
      "metadata": {
        "id": "O8R12tF8wSDC"
      }
    },
    {
      "cell_type": "code",
      "source": [],
      "metadata": {
        "id": "tEdaSprRwnmB"
      },
      "execution_count": null,
      "outputs": []
    },
    {
      "cell_type": "markdown",
      "source": [
        "No14.\n",
        "請設計兩個串列，names和scores，分別存放使用者輸入的姓名和成績。直到輸入姓名為空為止。並輸出使用者輸入的姓名和成績，其格式為，姓名:成績。\n",
        "\n",
        "輸入的姓名和成績，姓名為Lendy，其成績為90、姓名為Mary，其成績為72、姓名為Bill，其成績為88。\n",
        "\n",
        "\n",
        "提示:使用while迴圈\n"
      ],
      "metadata": {
        "id": "DZ4eugNdSYYj"
      }
    },
    {
      "cell_type": "code",
      "source": [
        ""
      ],
      "metadata": {
        "id": "DCBrTgGHSX34"
      },
      "execution_count": null,
      "outputs": []
    },
    {
      "cell_type": "markdown",
      "source": [
        "No15. 請設計兩個串列，names和scores，分別存放使用者輸入的姓名和成績。直到輸入姓名為空為止。並依照成績，從大到小，再從小到大，輸出使用者輸入的姓名和成績，其格式為，姓名:成績。\n",
        "\n",
        "輸入的姓名和成績，姓名為Lendy，其成績為90、姓名為Mary，其成績為72、姓名為Bill，其成績為88。\n",
        "\n",
        "提示:使用while迴圈、sorted和reversed方法。"
      ],
      "metadata": {
        "id": "yPS4G5GzygYu"
      }
    },
    {
      "cell_type": "code",
      "source": [
        ""
      ],
      "metadata": {
        "id": "mgzp-F5xzzXF"
      },
      "execution_count": null,
      "outputs": []
    },
    {
      "cell_type": "markdown",
      "source": [
        "No16. 請設計兩個串列，names和scores，分別存放使用者輸入的姓名和成績。直到輸入姓名為空為止。並依照成績，從大到小，再從小到大，輸出使用者輸入的姓名和成績，其格式為，姓名:成績。\n",
        "\n",
        "輸入的姓名和成績，姓名為Lendy，其成績為90、姓名為Mary，其成績為72、姓名為Bill，其成績為88。\n",
        "\n",
        "提示:使用while迴圈，使用sorted方法"
      ],
      "metadata": {
        "id": "UKZ0BmtuzweK"
      }
    },
    {
      "cell_type": "code",
      "source": [],
      "metadata": {
        "id": "cI7C-3RqCl8x"
      },
      "execution_count": null,
      "outputs": []
    },
    {
      "cell_type": "markdown",
      "source": [
        "No17.\n",
        "\n",
        "n=['Lendy','Mary','Bill','John']\n",
        "\n",
        "1. 請用正向index取出'Mary'\n",
        "2. 請用負向index取出'Mary'\n",
        "3. 請用正向index取出'Mary'到'John'\n",
        "4. 請用正向index取出'Mary'到最後\n",
        "5. 請用負向index取出'Mary'到-1\n",
        "6. 請用負向index取出'Mary'到最後\n",
        "7. 請用正向index，從頭取到最後\n",
        "8. 請透過間距為-1的方法，從'John'取到'Lendy'\n",
        "9. 請用正向index搭配負向index，取出'Mary'到'Bill'\n",
        "10. 請用負向index搭配正向index，取出'Mary'到'Bill'\n",
        "11. 請透過間距為-1的方法，用正向index搭配負向index，取出'Bill'到'Mary'\n",
        "12. 請透過間距為-1的方法，用負向index搭配正向index，取出'Bill'到'Mary'"
      ],
      "metadata": {
        "id": "VdG3cT2V2Ijq"
      }
    },
    {
      "cell_type": "code",
      "source": [],
      "metadata": {
        "id": "kiv7ZN_D2itB"
      },
      "execution_count": null,
      "outputs": []
    },
    {
      "cell_type": "markdown",
      "source": [
        "No18.\n",
        "\n",
        "n='LMBJ'\n",
        "\n",
        "1. 請用正向index取出'M'\n",
        "2. 請用負向index取出'M'\n",
        "3. 請用正向index取出'M'到'J'\n",
        "4. 請用正向index取出'M'到最後\n",
        "5. 請用負向index取出'M'到-1\n",
        "6. 請用負向index取出'M'到最後\n",
        "7. 請用正向index，從頭取到最後\n",
        "8. 請透過間距為-1的方法，從'J'取到'L'\n",
        "9. 請用正向index搭配負向index，取出'M'到'B'\n",
        "10. 請用負向index搭配正向index，取出'M'到'B'\n",
        "11. 請透過間距為-1的方法，用正向index搭配負向index，取出'B'到'M'\n",
        "12. 請透過間距為-1的方法，用負向index搭配正向index，取出'B'到'M'\n",
        "\n",
        "\n"
      ],
      "metadata": {
        "id": "4tTcH8Qa6IZq"
      }
    },
    {
      "cell_type": "code",
      "source": [],
      "metadata": {
        "id": "J-5JQj2T6H2f"
      },
      "execution_count": null,
      "outputs": []
    },
    {
      "cell_type": "markdown",
      "source": [
        "No19. 請設計三個串列，names、java_scores和python_scores，分別存放使用者輸入的姓名，java成績和python成績。直到輸入姓名為空為止。並輸出使用者輸入的姓名，java成績和python成績，其格式為，姓名:java成績:python成績。\n",
        "\n",
        "輸入的姓名和成績，姓名為Lendy，其java成績成績為90，python成績成績為88、姓名為Mary，其java成績成績為72，python成績成績為90、姓名為Bill，其java成績成績為88，python成績成績為78。\n",
        "\n",
        "提示:使用while迴圈"
      ],
      "metadata": {
        "id": "M4g5qVAGM2d5"
      }
    },
    {
      "cell_type": "code",
      "source": [],
      "metadata": {
        "id": "3rKCFxLiOJTQ"
      },
      "execution_count": null,
      "outputs": []
    },
    {
      "cell_type": "markdown",
      "source": [
        "No20. 請使用辭典搭配串列students，透過辭典存放使用者輸入的姓名，java成績和python成績。直到輸入姓名為空為止。並輸出使用者輸入的姓名，java成績和python成績，其格式為，姓名:java成績:python成績。\n",
        "\n",
        "輸入的姓名和成績，姓名為Lendy，其java成績成績為90，python成績成績為88、姓名為Mary，其java成績成績為72，python成績成績為90、姓名為Bill，其java成績成績為88，python成績成績為78。\n",
        "\n",
        "提示:使用while迴圈"
      ],
      "metadata": {
        "id": "XigqAco7P0Vf"
      }
    },
    {
      "cell_type": "code",
      "source": [],
      "metadata": {
        "id": "hfhluxmI6zgr"
      },
      "execution_count": null,
      "outputs": []
    },
    {
      "cell_type": "markdown",
      "source": [
        "No21. 請使用辭典搭配串列students，透過辭典存放使用者輸入的姓名，java成績和python成績。直到輸入姓名為空為止。並依照java成績，從小到大，輸出使用者輸入的姓名，java成績和python成績，其格式為，姓名:java成績:python成績。\n",
        "\n",
        "輸入的姓名和成績，姓名為Lendy，其java成績成績為90，python成績成績為88、姓名為Mary，其java成績成績為72，python成績成績為90、姓名為Bill，其java成績成績為88，python成績成績為78。\n",
        "\n",
        "提示:使用while迴圈"
      ],
      "metadata": {
        "id": "c4smi8kNQ1IC"
      }
    },
    {
      "cell_type": "code",
      "source": [],
      "metadata": {
        "id": "CqqCGhvxdCiR"
      },
      "execution_count": null,
      "outputs": []
    },
    {
      "cell_type": "markdown",
      "source": [
        "No22. 請使用辭典搭配串列students，透過辭典存放使用者輸入的姓名，java成績和python成績。直到輸入姓名為空為止。並依照java成績，從大到小，輸出使用者輸入的姓名，java成績和python成績，其格式為，姓名:java成績:python成績。\n",
        "\n",
        "輸入的姓名和成績，姓名為Lendy，其java成績成績為90，python成績成績為88、姓名為Mary，其java成績成績為72，python成績成績為90、姓名為Bill，其java成績成績為88，python成績成績為78。\n",
        "\n",
        "提示:使用while迴圈"
      ],
      "metadata": {
        "id": "SwgN2ghmdZNS"
      }
    },
    {
      "cell_type": "code",
      "source": [],
      "metadata": {
        "id": "7LTNnuORdgBP"
      },
      "execution_count": null,
      "outputs": []
    }
  ]
}