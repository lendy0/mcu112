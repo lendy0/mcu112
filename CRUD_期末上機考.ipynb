{
  "nbformat": 4,
  "nbformat_minor": 0,
  "metadata": {
    "colab": {
      "provenance": [],
      "authorship_tag": "ABX9TyO19YGT598vRDbY/qWi/Y1J",
      "include_colab_link": true
    },
    "kernelspec": {
      "name": "python3",
      "display_name": "Python 3"
    },
    "language_info": {
      "name": "python"
    }
  },
  "cells": [
    {
      "cell_type": "markdown",
      "metadata": {
        "id": "view-in-github",
        "colab_type": "text"
      },
      "source": [
        "<a href=\"https://colab.research.google.com/github/lendy0/mcu112/blob/main/CRUD_%E6%9C%9F%E6%9C%AB%E4%B8%8A%E6%A9%9F%E8%80%83.ipynb\" target=\"_parent\"><img src=\"https://colab.research.google.com/assets/colab-badge.svg\" alt=\"Open In Colab\"/></a>"
      ]
    },
    {
      "cell_type": "markdown",
      "source": [],
      "metadata": {
        "id": "UC6ufM_3i1-J"
      }
    },
    {
      "cell_type": "markdown",
      "source": [
        "# Flask\n",
        "Python Flask 是一種輕量級的網頁框架，只要少少數行程式碼，就可以架設網頁伺服器 (Web Server)。\n",
        "\n",
        "## 步驟一:安裝 Flask 套件\n",
        "\n",
        "```text\n",
        "$ pip install Flask\n",
        "```\n",
        "在 colab 上的安裝方法 (目前不用)。\n",
        "```text\n",
        "!pip install Flask\n",
        "```\n",
        "\n",
        "## 步驟二:撰寫程式碼\n",
        "```python\n",
        "# import Flask from flask module\n",
        "from flask import Flask\n",
        "\n",
        "# app name\n",
        "app = Flask(__name__)\n",
        "\n",
        "# @ app 裝飾器是告訴 Flask，哪個 URL 應該觸發我們的函式。\n",
        "@app.route(\"/\")\n",
        "def hello():\n",
        "    return \"<Title>lendy</Title><h1>hello world</h1>\"\n",
        "\n",
        "if __name__ == \"__main__\":\n",
        "    app.run()\n",
        "```\n",
        "\n",
        "執行結果如下:\n",
        "\n",
        "```text\n",
        " * Serving Flask app '__main__'\n",
        " * Debug mode: off\n",
        "INFO:werkzeug:WARNING: This is a development server. Do not use it in a production deployment. Use a production WSGI server instead.\n",
        " * Running on http://127.0.0.1:5000\n",
        "INFO:werkzeug:Press CTRL+C to quit\n",
        "```\n",
        "重點說明:\n",
        "\n",
        "- 有一個 Web Server 啟動在 http://127.0.0.1:5000 。\n",
        "- 只能透過本地端瀏覽器瀏覽。\n",
        "\n"
      ],
      "metadata": {
        "id": "EDloazFsibCx"
      }
    },
    {
      "cell_type": "code",
      "execution_count": null,
      "metadata": {
        "id": "szj10UWML3DT"
      },
      "outputs": [],
      "source": []
    },
    {
      "cell_type": "markdown",
      "source": [
        "# Local develop\n",
        "- development server (local) <- (X)HTTP -> User (remote)\n",
        "## Ngrok\n",
        "- development server (local) (Ngrok Client) <- Tunnel -> Ngrok Server <- HTTP -> User (remote)"
      ],
      "metadata": {
        "id": "jHIhyPn8pn56"
      }
    },
    {
      "cell_type": "markdown",
      "source": [
        "# Import Necessary Libraries (for python)\n",
        "```text\n",
        "$pip install pyngrok\n",
        "```\n",
        "在 colab 上的安裝方法。\n",
        "```text\n",
        "!pip install pyngrok\n",
        "```\n"
      ],
      "metadata": {
        "id": "IHG4UlL-L5WG"
      }
    },
    {
      "cell_type": "code",
      "source": [],
      "metadata": {
        "id": "ccaoXliSMD0p"
      },
      "execution_count": null,
      "outputs": []
    },
    {
      "cell_type": "markdown",
      "source": [
        "# Setup and Installation of Ngrok (client)\n",
        "step1. install ngrok linux version using the following command:\n",
        "\n",
        "```text\n",
        "!wget https://bin.equinox.io/c/bNyj1mQVY4c/ngrok-v3-stable-linux-amd64.tgz\n",
        "```"
      ],
      "metadata": {
        "id": "ktnSup3PMpGg"
      }
    },
    {
      "cell_type": "code",
      "source": [],
      "metadata": {
        "id": "R-vl2k4JMCcv"
      },
      "execution_count": null,
      "outputs": []
    },
    {
      "cell_type": "markdown",
      "source": [
        "step2. extract the downloaded file using the following command:\n",
        "```text\n",
        "!tar -xvf /content/ngrok-v3-stable-linux-amd64.tgz\n",
        "```"
      ],
      "metadata": {
        "id": "rhH4XMcxM-We"
      }
    },
    {
      "cell_type": "code",
      "source": [],
      "metadata": {
        "id": "7Mw50ZhvM3uO"
      },
      "execution_count": null,
      "outputs": []
    },
    {
      "cell_type": "markdown",
      "source": [
        "# Get your AuthToken from ngrok using this link:\n",
        "```text\n",
        "https://dashboard.ngrok.com/get-started/your-authtoken\n",
        "```\n",
        "\n",
        "paste your AuthToken here and execute this command:\n",
        "```text\n",
        "ngrok config add-authtoken 2hisD7vbbDdF2md0zu1LsAp6ScI_6RbgQaSfn2XnRvdxoLxEA\n",
        "```\n",
        "在 colab 上的設定方法。\n",
        "```text\n",
        "!./ngrok config add-authtoken 2hisD7vbbDdF2md0zu1LsAp6ScI_6RbgQaSfn2XnRvdxoLxEA\n",
        "```"
      ],
      "metadata": {
        "id": "zPJag9isNSn0"
      }
    },
    {
      "cell_type": "code",
      "source": [],
      "metadata": {
        "id": "hPjtwos4NgcI"
      },
      "execution_count": null,
      "outputs": []
    },
    {
      "cell_type": "markdown",
      "source": [
        "# 讓 Flask 可以有一個外部 URL\n",
        "\n",
        "- 使用 pyngrok\n",
        "- 取得 外部 URL\n",
        "  - ngrok.connect(port).public_url"
      ],
      "metadata": {
        "id": "sBWLT_ZxwSb3"
      }
    },
    {
      "cell_type": "markdown",
      "source": [
        "## 修改之前的範例程式\n",
        "\n",
        "```python\n",
        "# import Flask from flask module\n",
        "from flask import Flask\n",
        "\n",
        "# import pyngrok to run the app using ngrok\n",
        "from pyngrok import ngrok\n",
        "\n",
        "#app name\n",
        "app = Flask(__name__)\n",
        "\n",
        "port = \"5000\"\n",
        "\n",
        "# Open a ngrok tunnel to the HTTP server\n",
        "public_url = ngrok.connect(port).public_url\n",
        "print(f\" * ngrok tunnel \\\"{public_url}\\\" -> \\\"http://127.0.0.1:{port}\\\" \")\n",
        "\n",
        "@app.route(\"/\")\n",
        "def hello():\n",
        "    return \"<Title>lendy</Title><h1>hello world</h1>\"\n",
        "\n",
        "if __name__ == \"__main__\":\n",
        "    app.run(port=port)\n",
        "\n",
        "```\n"
      ],
      "metadata": {
        "id": "4eIA4nhRw7W9"
      }
    },
    {
      "cell_type": "code",
      "source": [],
      "metadata": {
        "id": "b4DxVLZ6xNhc"
      },
      "execution_count": null,
      "outputs": []
    },
    {
      "cell_type": "markdown",
      "source": [
        "# 註冊路由\n",
        "除了固定的導向位址，URL 也可以成為函式接收的參數\n",
        "\n",
        "```python\n",
        "@app.route(\"/<name>/<int:age>\")\n",
        "def hello(name,age):\n",
        "    return f\"<Title>{name}</Title><h1>hello  {name}</h1> You was brown in {2024-age}\"\n",
        "```\n",
        "URL: http://??????????/lendy/32\n"
      ],
      "metadata": {
        "id": "5dDrJIrK0qU-"
      }
    },
    {
      "cell_type": "markdown",
      "source": [
        "## 完整範例\n",
        "```python\n",
        "# import Flask from flask module\n",
        "from flask import Flask\n",
        "\n",
        "# import pyngrok to run the app using ngrok\n",
        "from pyngrok import ngrok\n",
        "\n",
        "#app name\n",
        "app = Flask(__name__)\n",
        "\n",
        "port = \"5000\"\n",
        "\n",
        "# Open a ngrok tunnel to the HTTP server\n",
        "public_url = ngrok.connect(port).public_url\n",
        "print(f\" * ngrok tunnel \\\"{public_url}\\\" -> \\\"http://127.0.0.1:{port}\\\" \")\n",
        "\n",
        "@app.route(\"/<name>/<int:age>\")\n",
        "def hello(name,age):\n",
        "    return f\"<Title>{name}</Title><h1>hello  {name}</h1> You was brown in {2024-age}\"\n",
        "\n",
        "if __name__ == \"__main__\":\n",
        "    app.run(port=port)\n",
        "\n",
        "```"
      ],
      "metadata": {
        "id": "sQxP8kU-2Chj"
      }
    },
    {
      "cell_type": "code",
      "source": [],
      "metadata": {
        "id": "ElKEz50P17a9"
      },
      "execution_count": null,
      "outputs": []
    },
    {
      "cell_type": "markdown",
      "source": [
        "\n",
        "# 網頁模版 - Html 回傳\n",
        "Python Flask 使用 Jinja2 的模板引擎\n",
        "\n",
        "## templates 資料夾\n",
        "在 python 執行檔的目錄下，創建 templates 資料夾，html 檔案放置於此。\n",
        "\n",
        "- /render.py\n",
        "- /templates\n",
        "  - /home.html\n",
        "  - /test.html\n",
        "  - /static.html\n",
        "\n",
        "\n",
        "render.py\n",
        "```python\n",
        "@app.route('/test')\n",
        "def home():\n",
        "    return render_template('test.html')\n",
        "```\n",
        "\n",
        "test.html\n",
        "```html\n",
        "<Title>lendy</Title><h1>hello  lendy</h1> You was brown in 1996\n",
        "```"
      ],
      "metadata": {
        "id": "JsQTtCU8JAC-"
      }
    },
    {
      "cell_type": "markdown",
      "source": [
        "## 延續之前的範例程式\n",
        "\n",
        "```python\n",
        "# import Flask from flask module\n",
        "from flask import Flask,render_template\n",
        "\n",
        "# import pyngrok to run the app using ngrok\n",
        "from pyngrok import ngrok\n",
        "\n",
        "#app name\n",
        "app = Flask(__name__)\n",
        "\n",
        "port = \"5000\"\n",
        "\n",
        "# Open a ngrok tunnel to the HTTP server\n",
        "public_url = ngrok.connect(port).public_url\n",
        "print(f\" * ngrok tunnel \\\"{public_url}\\\" -> \\\"http://127.0.0.1:{port}\\\" \")\n",
        "\n",
        "@app.route(\"/<name>/<int:age>\")\n",
        "def hello(name,age):\n",
        "    return f\"<Title>{name}</Title><h1>hello  {name}</h1> You was brown in {2024-age}\"\n",
        "\n",
        "@app.route('/test')\n",
        "def home():\n",
        "    return render_template('test.html')\n",
        "\n",
        "if __name__ == \"__main__\":\n",
        "    app.run(port=port)\n",
        "```"
      ],
      "metadata": {
        "id": "tWIndgSsLayE"
      }
    },
    {
      "cell_type": "code",
      "source": [],
      "metadata": {
        "id": "glpNZjtgL0BM"
      },
      "execution_count": null,
      "outputs": []
    },
    {
      "cell_type": "markdown",
      "source": [
        "## 改成動態改變\n",
        "```python\n",
        "@app.route(\"/<name>/<int:age>\")\n",
        "def hello(name,age):\n",
        "    return f\"<Title>{name}</Title><h1>hello  {name}</h1> You was brown in {2024-age}\"\n",
        "```\n",
        "render.py\n",
        "```python\n",
        "# 原本\n",
        "@app.route('/test')\n",
        "def home():\n",
        "    return render_template('test.html')\n",
        "\n",
        "# 改成\n",
        "@app.route('/test/<name>/<int:age>')\n",
        "def home(name,age):\n",
        "    return render_template('test.html',name=name,age=age)\n",
        "```\n",
        "\n",
        "test.html\n",
        "```html\n",
        "<!--原本-->\n",
        "<Title>lendy</Title><h1>hello  lendy</h1> You was brown in 1996\n",
        "\n",
        "<!--改成-->\n",
        "<Title>{{name}}</Title><h1>hello  {{name}}</h1> You was brown in {{2024-age}}\n",
        "```"
      ],
      "metadata": {
        "id": "lHR1sgiaMLY-"
      }
    },
    {
      "cell_type": "markdown",
      "source": [
        "## 延續之前的範例程式\n",
        "\n",
        "```python\n",
        "# import Flask from flask module\n",
        "from flask import Flask,render_template\n",
        "\n",
        "# import pyngrok to run the app using ngrok\n",
        "from pyngrok import ngrok\n",
        "\n",
        "#app name\n",
        "app = Flask(__name__)\n",
        "\n",
        "port = \"5000\"\n",
        "\n",
        "# Open a ngrok tunnel to the HTTP server\n",
        "public_url = ngrok.connect(port).public_url\n",
        "print(f\" * ngrok tunnel \\\"{public_url}\\\" -> \\\"http://127.0.0.1:{port}\\\" \")\n",
        "\n",
        "@app.route(\"/<name>/<int:age>\")\n",
        "def hello(name,age):\n",
        "    return f\"<Title>{name}</Title><h1>hello  {name}</h1> You was brown in {2024-age}\"\n",
        "\n",
        "# @app.route('/test')\n",
        "# def home():\n",
        "#     return render_template('test.html')\n",
        "\n",
        "@app.route('/test/<name>/<int:age>')\n",
        "def home(name,age):\n",
        "    return render_template('test.html',name=name,age=age)\n",
        "\n",
        "if __name__ == \"__main__\":\n",
        "    app.run(port=port)\n",
        "```"
      ],
      "metadata": {
        "id": "qoByl43FOc8e"
      }
    },
    {
      "cell_type": "code",
      "source": [],
      "metadata": {
        "id": "LqLm_p07PxTP"
      },
      "execution_count": null,
      "outputs": []
    },
    {
      "cell_type": "markdown",
      "source": [
        "# 加入資料庫\n",
        "## 建立資料庫"
      ],
      "metadata": {
        "id": "emjP_txtSBz0"
      }
    },
    {
      "cell_type": "markdown",
      "source": [
        "```python\n",
        "import sqlite3 as sqlite\n",
        "\n",
        "# connect to SQLite\n",
        "con = sqlite.connect('db_web.db')\n",
        "\n",
        "# Create a Connection\n",
        "cur = con.cursor()\n",
        "\n",
        "# Drop users table if already exsist.\n",
        "cur.execute(\"DROP TABLE IF EXISTS users\")\n",
        "\n",
        "# Create users table  in db_web database\n",
        "sql ='''CREATE TABLE \"users\" (\n",
        "    \"UID\"    INTEGER PRIMARY KEY AUTOINCREMENT,\n",
        "    \"UNAME\"    TEXT,\n",
        "    \"CONTACT\"    TEXT\n",
        ")'''\n",
        "cur.execute(sql)\n",
        "\n",
        "# commit changes\n",
        "con.commit()\n",
        "\n",
        "# close the connection\n",
        "con.close()\n",
        "```"
      ],
      "metadata": {
        "id": "quDgilaGSZkV"
      }
    },
    {
      "cell_type": "code",
      "source": [],
      "metadata": {
        "id": "zIMtL0mUQDVk"
      },
      "execution_count": null,
      "outputs": []
    },
    {
      "cell_type": "markdown",
      "source": [
        "# CRUD\n",
        "\n",
        "```python\n",
        "# 查全部\n",
        "def index():\n",
        "    con=sqlite.connect(\"db_web.db\")\n",
        "    cur=con.cursor()\n",
        "    cur.execute(\"select * from users\")\n",
        "    data=cur.fetchall()\n",
        "    print(data)\n",
        "\n",
        "# 新增\n",
        "def add_user():\n",
        "    uname='lendy'\n",
        "    contact='1234567'\n",
        "    con=sqlite.connect(\"db_web.db\")\n",
        "    cur=con.cursor()\n",
        "    cur.execute(\"insert into users(UNAME,CONTACT) values (?,?)\",(uname,contact))\n",
        "    con.commit()\n",
        "        \n",
        "\n",
        "# 修改\n",
        "def edit_user(uid):\n",
        "    uname='lendy1'\n",
        "    contact='12345671'\n",
        "    con=sqlite.connect(\"db_web.db\")\n",
        "    cur=con.cursor()\n",
        "    cur.execute(\"update users set UNAME=?,CONTACT=? where UID=?\",(uname,contact,uid))\n",
        "    con.commit()\n",
        "\n",
        "\n",
        "# 刪除\n",
        "def delete_user(uid):\n",
        "    con=sqlite.connect(\"db_web.db\")\n",
        "    cur=con.cursor()\n",
        "    cur.execute(\"delete from users where UID=?\",(uid,))\n",
        "    con.commit()\n",
        "\n",
        "```"
      ],
      "metadata": {
        "id": "lKZwcqGSSdpy"
      }
    },
    {
      "cell_type": "code",
      "source": [],
      "metadata": {
        "id": "CPOxelsnUm2c"
      },
      "execution_count": null,
      "outputs": []
    },
    {
      "cell_type": "code",
      "source": [
        "index()"
      ],
      "metadata": {
        "colab": {
          "base_uri": "https://localhost:8080/"
        },
        "id": "7fUrjNBgUot-",
        "outputId": "61c3aecd-d673-4890-8438-24b2bada1613"
      },
      "execution_count": null,
      "outputs": [
        {
          "output_type": "stream",
          "name": "stdout",
          "text": [
            "[]\n"
          ]
        }
      ]
    },
    {
      "cell_type": "code",
      "source": [
        "add_user()"
      ],
      "metadata": {
        "id": "DLKMFIfyWDb5"
      },
      "execution_count": null,
      "outputs": []
    },
    {
      "cell_type": "code",
      "source": [
        "index()"
      ],
      "metadata": {
        "colab": {
          "base_uri": "https://localhost:8080/"
        },
        "id": "PgqPfI-FWKWL",
        "outputId": "2df8be70-be3f-40d5-c594-777f0821bbf4"
      },
      "execution_count": null,
      "outputs": [
        {
          "output_type": "stream",
          "name": "stdout",
          "text": [
            "[(1, 'lendy', '1234567')]\n"
          ]
        }
      ]
    },
    {
      "cell_type": "code",
      "source": [
        "edit_user(1)"
      ],
      "metadata": {
        "id": "u7aCpqO2bGvV"
      },
      "execution_count": null,
      "outputs": []
    },
    {
      "cell_type": "code",
      "source": [
        "index()"
      ],
      "metadata": {
        "colab": {
          "base_uri": "https://localhost:8080/"
        },
        "id": "gb6iKphNbKrw",
        "outputId": "caed182a-7398-49ec-9ab3-5db4d840e827"
      },
      "execution_count": null,
      "outputs": [
        {
          "output_type": "stream",
          "name": "stdout",
          "text": [
            "[(1, 'lendy1', '12345671')]\n"
          ]
        }
      ]
    },
    {
      "cell_type": "code",
      "source": [
        "delete_user(1)"
      ],
      "metadata": {
        "id": "coOpTts3bMaZ"
      },
      "execution_count": null,
      "outputs": []
    },
    {
      "cell_type": "code",
      "source": [
        "index()"
      ],
      "metadata": {
        "colab": {
          "base_uri": "https://localhost:8080/"
        },
        "id": "xIk34O2qbPOM",
        "outputId": "e372d036-ad4c-4a15-df77-8538e32de857"
      },
      "execution_count": null,
      "outputs": [
        {
          "output_type": "stream",
          "name": "stdout",
          "text": [
            "[]\n"
          ]
        }
      ]
    },
    {
      "cell_type": "markdown",
      "source": [
        "# 串接 Flask"
      ],
      "metadata": {
        "id": "jnu1R84HcCZe"
      }
    },
    {
      "cell_type": "markdown",
      "source": [
        "```python\n",
        "# import Flask from flask module\n",
        "from flask import Flask,render_template,request,redirect,url_for,flash\n",
        "\n",
        "from pyngrok import ngrok\n",
        "# Open a ngrok tunnel to the HTTP server\n",
        "public_url = ngrok.connect(port).public_url\n",
        "print(f\" * ngrok tunnel \\\"{public_url}\\\" -> \\\"http://127.0.0.1:{port}\\\" \")\n",
        "\n",
        "# import sqlite3\n",
        "import sqlite3 as sqlite\n",
        "\n",
        "app = Flask(__name__) #app name\n",
        "\n",
        "@app.route(\"/\")\n",
        "@app.route(\"/index\")\n",
        "def index():\n",
        "    con=sqlite.connect(\"db_web.db\")\n",
        "    con.row_factory=sqlite.Row\n",
        "    cur=con.cursor()\n",
        "    cur.execute(\"select * from users\")\n",
        "    data=cur.fetchall()\n",
        "\n",
        "    return render_template(\"index.html\",datas=data)\n",
        "\n",
        "@app.route(\"/add_user\",methods=['POST','GET'])\n",
        "def add_user():\n",
        "    if request.method=='POST':\n",
        "        uname=request.form['uname']\n",
        "        contact=request.form['contact']\n",
        "        con=sqlite.connect(\"db_web.db\")\n",
        "        cur=con.cursor()\n",
        "        cur.execute(\"insert into users(UNAME,CONTACT) values (?,?)\",(uname,contact))\n",
        "        con.commit()\n",
        "        flash('User Added','success')\n",
        "        return redirect(url_for(\"index\"))\n",
        "    return render_template(\"add_user.html\")\n",
        "\n",
        "@app.route(\"/edit_user/<string:uid>\",methods=['POST','GET'])\n",
        "def edit_user(uid):\n",
        "    if request.method=='POST':\n",
        "        uname=request.form['uname']\n",
        "        contact=request.form['contact']\n",
        "        con=sqlite.connect(\"db_web.db\")\n",
        "        cur=con.cursor()\n",
        "        cur.execute(\"update users set UNAME=?,CONTACT=? where UID=?\",(uname,contact,uid))\n",
        "        con.commit()\n",
        "        flash('User Updated','success')\n",
        "        return redirect(url_for(\"index\"))\n",
        "    con=sqlite.connect(\"db_web.db\")\n",
        "    con.row_factory=sqlite.Row\n",
        "    cur=con.cursor()\n",
        "    cur.execute(\"select * from users where UID=?\",(uid,))\n",
        "    data=cur.fetchone()\n",
        "    return render_template(\"edit_user.html\",datas=data)\n",
        "\n",
        "@app.route(\"/delete_user/<string:uid>\",methods=['GET'])\n",
        "def delete_user(uid):\n",
        "    con=sqlite.connect(\"db_web.db\")\n",
        "    cur=con.cursor()\n",
        "    cur.execute(\"delete from users where UID=?\",(uid,))\n",
        "    con.commit()\n",
        "    flash('User Deleted','warning')\n",
        "    return redirect(url_for(\"index\"))\n",
        "\n",
        "if __name__=='__main__':\n",
        "    app.secret_key='admin123'\n",
        "    app.run()\n",
        "```"
      ],
      "metadata": {
        "id": "fFhn6o1xcIsn"
      }
    },
    {
      "cell_type": "code",
      "source": [],
      "metadata": {
        "id": "WPNjeceqcHvU"
      },
      "execution_count": null,
      "outputs": []
    },
    {
      "cell_type": "markdown",
      "source": [
        "## layout.html\n",
        "\n",
        "```html\n",
        "<html>\n",
        "  <head>\n",
        "    <title>Flask - SQLite </title>\n",
        "    <link rel=\"stylesheet\" href=\"https://maxcdn.bootstrapcdn.com/bootstrap/4.0.0/css/bootstrap.min.css\" integrity=\"sha384-Gn5384xqQ1aoWXA+058RXPxPg6fy4IWvTNh0E263XmFcJlSAwiGgFAW/dAiS6JXm\" crossorigin=\"anonymous\">\n",
        "    <script src=\"https://code.jquery.com/jquery-3.2.1.slim.min.js\" integrity=\"sha384-KJ3o2DKtIkvYIK3UENzmM7KCkRr/rE9/Qpg6aAZGJwFDMVNA/GpGFF93hXpG5KkN\" crossorigin=\"anonymous\"></script>\n",
        "    <script src=\"https://cdnjs.cloudflare.com/ajax/libs/popper.js/1.12.9/umd/popper.min.js\" integrity=\"sha384-ApNbgh9B+Y1QKtv3Rn7W3mgPxhU9K/ScQsAP7hUibX39j7fakFPskvXusvfa0b4Q\" crossorigin=\"anonymous\"></script>\n",
        "    <script src=\"https://maxcdn.bootstrapcdn.com/bootstrap/4.0.0/js/bootstrap.min.js\" integrity=\"sha384-JZR6Spejh4U02d8jOt6vLEHfe/JQGiRRSQQxSfFWpi1MquVdAyjUar5+76PVCmYl\" crossorigin=\"anonymous\"></script>\n",
        "  </head>\n",
        "  <body>\n",
        "    <div class='container pt-3'>\n",
        "      {% with messages=get_flashed_messages(with_categories=true) %}\n",
        "        {% if messages %}\n",
        "          {% for category,message in messages %}\n",
        "            <div class='alert alert-{{category}}'>{{message}}</div>\n",
        "          {% endfor %}\n",
        "        {% endif %}\n",
        "      {% endwith %}\n",
        "      {% block body %}\n",
        "\n",
        "      {% endblock %}\n",
        "    </div>\n",
        "  </body>\n",
        "</html>\n",
        "```"
      ],
      "metadata": {
        "id": "wQSftnIKdb7A"
      }
    },
    {
      "cell_type": "markdown",
      "source": [
        "## index.html\n",
        "\n",
        "```HTML\n",
        "{% extends 'layout.html' %}\n",
        "{% block body %}\n",
        "  <h3 class='text-center text-muted mb-3'>Flask - SQLite CRUD Application</h3>\n",
        "  <p class='text-right'><a href='{{url_for(\"add_user\")}}' class='btn btn-success '>+Add User</a></p>\n",
        "  <table class='table table-bordered'>\n",
        "    <thead>\n",
        "      <th>SNo</th>\n",
        "      <th>Name</th>\n",
        "      <th>Contact</th>\n",
        "      <th>Edit</th>\n",
        "      <th>Delete</th>\n",
        "    </thead>\n",
        "    <tbody>\n",
        "      {% for row in datas %}\n",
        "        <tr>\n",
        "          <td>{{loop.index}}</td>\n",
        "          <td>{{row.UNAME}}</td>\n",
        "          <td>{{row.CONTACT}}</td>\n",
        "          <td><a href='{{url_for(\"edit_user\",uid=row.UID)}}' class='btn btn-primary'>Edit</a></td>\n",
        "          <td><a href='{{url_for(\"delete_user\",uid=row.UID)}}' class='btn btn-danger' onclick='return confirm(\"Are You Sure\")'>Delete</a></td>\n",
        "        </tr>\n",
        "      {%endfor%}\n",
        "    </tbody>\n",
        "  </table>\n",
        "{% endblock %}\n",
        "```"
      ],
      "metadata": {
        "id": "epswNaRkd2mq"
      }
    },
    {
      "cell_type": "markdown",
      "source": [
        "## add_user.html\n",
        "\n",
        "```HTML\n",
        "{% extends 'layout.html' %}\n",
        "{% block body %}\n",
        "  <div class='row'>\n",
        "    <div class='col-5 mx-auto'>\n",
        "      <h3>Add user</h3><hr>\n",
        "      <form method='post' action='{{url_for(\"add_user\")}}'>\n",
        "        <div class='form-group'>\n",
        "          <label>User Name</label>\n",
        "          <input type='text' name='uname' required class='form-control'>\n",
        "        </div>\n",
        "        <div class='form-group'>\n",
        "          <label>Contact</label>\n",
        "          <input type='text' name='contact' required class='form-control'>\n",
        "        </div>\n",
        "        <input type='submit' value='Submit' class='btn btn-primary'>\n",
        "      </form>\n",
        "    \n",
        "    </div>\n",
        "  </div>\n",
        "{% endblock %}\n",
        "```"
      ],
      "metadata": {
        "id": "tkaI2CcPeJfn"
      }
    },
    {
      "cell_type": "markdown",
      "source": [
        "edit_user.html\n",
        "\n",
        "```HTML\n",
        "{% extends 'layout.html' %}\n",
        "{% block body %}\n",
        "  <div class='row'>\n",
        "    <div class='col-5 mx-auto'>\n",
        "      <h3>Edit user</h3><hr>\n",
        "      <form method='post' action='{{url_for(\"edit_user\",uid=datas.UID)}}'>\n",
        "        <div class='form-group'>\n",
        "          <label>User Name</label>\n",
        "          <input type='text' name='uname' required class='form-control' value='{{datas.UNAME}}'>\n",
        "        </div>\n",
        "        <div class='form-group'>\n",
        "          <label>Contact</label>\n",
        "          <input type='text' name='contact' required class='form-control' value='{{datas.CONTACT}}'>\n",
        "        </div>\n",
        "        <input type='submit' value='Submit' class='btn btn-primary'>\n",
        "      </form>\n",
        "    </div>\n",
        "  </div>\n",
        "{% endblock %}\n",
        "```"
      ],
      "metadata": {
        "id": "g1wCOVSeeSZ0"
      }
    },
    {
      "cell_type": "markdown",
      "source": [
        "# 爬蟲\n",
        "\n",
        "```python\n",
        "import requests\n",
        "\n",
        "from bs4 import BeautifulSoup\n",
        "\n",
        "url = 'https://e3d2-35-192-15-49.ngrok-free.app/'\n",
        "\n",
        "r = requests.get(url);\n",
        "\n",
        "sp = BeautifulSoup(r.text,'lxml')\n",
        "\n",
        "tbody = sp.find('tbody')\n",
        "\n",
        "datas = tbody.find_all('tr')\n",
        "\n",
        "for tr in datas:\n",
        "    print(tr.find_all('td')[1].text)\n",
        "```"
      ],
      "metadata": {
        "id": "-icVz_gveX2B"
      }
    }
  ]
}