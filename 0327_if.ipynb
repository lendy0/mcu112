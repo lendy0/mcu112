{
  "nbformat": 4,
  "nbformat_minor": 0,
  "metadata": {
    "colab": {
      "provenance": [],
      "include_colab_link": true
    },
    "kernelspec": {
      "name": "python3",
      "display_name": "Python 3"
    },
    "language_info": {
      "name": "python"
    }
  },
  "cells": [
    {
      "cell_type": "markdown",
      "metadata": {
        "id": "view-in-github",
        "colab_type": "text"
      },
      "source": [
        "<a href=\"https://colab.research.google.com/github/lendy0/mcu112/blob/main/0327_if.ipynb\" target=\"_parent\"><img src=\"https://colab.research.google.com/assets/colab-badge.svg\" alt=\"Open In Colab\"/></a>"
      ]
    },
    {
      "cell_type": "markdown",
      "source": [
        "1. 請輸入你的成績\n",
        "2. 依照輸入的成績給予等第\n",
        "\n",
        "```python\n",
        "score=int(input('請輸入成績:'))\n",
        "print('您輸入的成績:',score)\n",
        "print('您的成績>=90')\n",
        "print('等第為A')\n",
        "print('您的成績>=80')\n",
        "print('等第為B')\n",
        "print('您的成績>=70')\n",
        "print('等第為C')\n",
        "print('您的成績>=60')\n",
        "print('等第為D')\n",
        "print('您的成績<60')\n",
        "print('等第為F')\n",
        "\n",
        "```"
      ],
      "metadata": {
        "id": "sVl6G2Fr6FwQ"
      }
    },
    {
      "cell_type": "code",
      "source": [],
      "metadata": {
        "id": "YVcd7QBh_ufd"
      },
      "execution_count": null,
      "outputs": []
    },
    {
      "cell_type": "markdown",
      "source": [
        "在Python中，有提供if選擇結構。其語法如下:\n",
        "\n",
        "<執行語句1>\n",
        "\n",
        "if <條件判斷>:\n",
        "\n",
        "  <執行語句2>\n",
        "\n",
        "<執行語句3>\n",
        "\n",
        "...\n",
        "\n",
        "if選擇結構會依照<條件判斷>，選擇性去執行<執行語句2>\n",
        "\n",
        "\n",
        "程式範例\n",
        "```python\n",
        "score=int(input('請輸入成績:'))\n",
        "print('您輸入的成績:',score)\n",
        "if score >= 90:\n",
        "  print('您的成績 >= 90')\n",
        "  print('等第為 A')\n",
        "if score >= 80:\n",
        "  print('您的成績 >= 80')\n",
        "  print('等第為 B')\n",
        "if score >= 70:\n",
        "  print('您的成績 >= 70')\n",
        "  print('等第為 C')\n",
        "if score >= 60:\n",
        "  print('您的成績 >= 60')\n",
        "  print('等第為 D')\n",
        "if score < 60:\n",
        "  print('您的成績 < 60')\n",
        "  print('等第為 F')\n",
        "\n",
        "```"
      ],
      "metadata": {
        "id": "MSWjjOEo8IJv"
      }
    },
    {
      "cell_type": "code",
      "source": [
        "score=int(input('請輸入成績:'))\n",
        "print('您輸入的成績:',score)\n",
        "if score >= 90:\n",
        "  print('您的成績 >= 90')\n",
        "  print('等第為 A')\n",
        "if score >= 80:\n",
        "  print('您的成績 >= 80')\n",
        "  print('等第為 B')\n",
        "if score >= 70:\n",
        "  print('您的成績 >= 70')\n",
        "  print('等第為 C')\n",
        "if score >= 60:\n",
        "  print('您的成績 >= 60')\n",
        "  print('等第為 D')\n",
        "if score < 60:\n",
        "  print('您的成績 < 60')\n",
        "  print('等第為 F')\n"
      ],
      "metadata": {
        "colab": {
          "base_uri": "https://localhost:8080/"
        },
        "id": "OIb1hiu_8Z0l",
        "outputId": "12ccaf28-8530-4fd4-fb38-48fd966ef7a8"
      },
      "execution_count": null,
      "outputs": [
        {
          "output_type": "stream",
          "name": "stdout",
          "text": [
            "請輸入成績:78\n",
            "您輸入的成績: 78\n",
            "您的成績 >= 70\n",
            "等第為 C\n",
            "您的成績 >= 60\n",
            "等第為 D\n"
          ]
        }
      ]
    }
  ]
}