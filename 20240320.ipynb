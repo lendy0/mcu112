{
  "nbformat": 4,
  "nbformat_minor": 0,
  "metadata": {
    "colab": {
      "provenance": [],
      "authorship_tag": "ABX9TyMDMmb2NTQ15+mPMkp32ksw",
      "include_colab_link": true
    },
    "kernelspec": {
      "name": "python3",
      "display_name": "Python 3"
    },
    "language_info": {
      "name": "python"
    }
  },
  "cells": [
    {
      "cell_type": "markdown",
      "metadata": {
        "id": "view-in-github",
        "colab_type": "text"
      },
      "source": [
        "<a href=\"https://colab.research.google.com/github/lendy0/mcu112/blob/main/20240320.ipynb\" target=\"_parent\"><img src=\"https://colab.research.google.com/assets/colab-badge.svg\" alt=\"Open In Colab\"/></a>"
      ]
    },
    {
      "cell_type": "markdown",
      "source": [
        "建立一個學生類別，類別名稱為Student，屬性有name跟score。\n",
        "\n",
        "```\n",
        "class Student:\n",
        "    def __init__(self,name,score):\n",
        "        self.name=name\n",
        "        self.score=score\n",
        "   \n",
        "```"
      ],
      "metadata": {
        "id": "ikshzfjvatfP"
      }
    },
    {
      "cell_type": "code",
      "source": [],
      "metadata": {
        "id": "wdJmcmGOt9MP"
      },
      "execution_count": null,
      "outputs": []
    },
    {
      "cell_type": "markdown",
      "source": [
        "- 建立小王物件，name=小王，score=90。\n",
        "- 建立小李物件，name=小李，score=80。\n",
        "\n",
        "計算小王跟小李分數的平均\n",
        "\n",
        "```python\n",
        "小王 = Student('小王',90)\n",
        "小李 = Student('小李',80)\n",
        "\n",
        "(小王.score + 小李.score)/2\n",
        "```"
      ],
      "metadata": {
        "id": "9dNt7w6zbufD"
      }
    },
    {
      "cell_type": "code",
      "source": [],
      "metadata": {
        "id": "yO1XSuKqt9xn"
      },
      "execution_count": null,
      "outputs": []
    },
    {
      "cell_type": "markdown",
      "source": [
        "請計算 小王 - 小李。\n",
        "\n",
        "參考程式\n",
        "```python\n",
        "    def __sub__(self,s):\n",
        "        return self.score - s.score\n",
        "```"
      ],
      "metadata": {
        "id": "ipAx0oRWt-cn"
      }
    },
    {
      "cell_type": "code",
      "source": [],
      "metadata": {
        "id": "FGNFx2uKt8Hu"
      },
      "execution_count": null,
      "outputs": []
    },
    {
      "cell_type": "markdown",
      "source": [
        "建立一個整數，整數值為50。\n",
        "- int(50)\n",
        "- 50\n",
        "建立一個整數，整數值為30。\n",
        "\n",
        "計算 50-30"
      ],
      "metadata": {
        "id": "T0tBRr6UaHhj"
      }
    },
    {
      "cell_type": "code",
      "source": [],
      "metadata": {
        "id": "p9geUOOPuhfi"
      },
      "execution_count": null,
      "outputs": []
    },
    {
      "cell_type": "markdown",
      "source": [
        "```python\n",
        "a=\"HELLO\"\n",
        "```\n",
        "請用正向索引跟反向索引取出\"LL\""
      ],
      "metadata": {
        "id": "zqtNwy7HuhwJ"
      }
    },
    {
      "cell_type": "code",
      "source": [],
      "metadata": {
        "id": "k5hDEt1ZuvhL"
      },
      "execution_count": null,
      "outputs": []
    }
  ]
}