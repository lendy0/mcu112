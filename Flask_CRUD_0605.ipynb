{
  "nbformat": 4,
  "nbformat_minor": 0,
  "metadata": {
    "colab": {
      "provenance": [],
      "authorship_tag": "ABX9TyPQw6yjmuPGAxR9CeTerLPB",
      "include_colab_link": true
    },
    "kernelspec": {
      "name": "python3",
      "display_name": "Python 3"
    },
    "language_info": {
      "name": "python"
    }
  },
  "cells": [
    {
      "cell_type": "markdown",
      "metadata": {
        "id": "view-in-github",
        "colab_type": "text"
      },
      "source": [
        "<a href=\"https://colab.research.google.com/github/lendy0/mcu112/blob/main/Flask_CRUD_0605.ipynb\" target=\"_parent\"><img src=\"https://colab.research.google.com/assets/colab-badge.svg\" alt=\"Open In Colab\"/></a>"
      ]
    },
    {
      "cell_type": "markdown",
      "source": [
        "# Import Necessary Libraries"
      ],
      "metadata": {
        "id": "6RLpCZmFZGLI"
      }
    },
    {
      "cell_type": "markdown",
      "source": [
        "!pip install flask --quiet\n",
        "\n",
        "!pip install flask-ngrok --quiet\n",
        "\n",
        "print(\"Completed!\")"
      ],
      "metadata": {
        "id": "dWslfH5SUTWJ"
      }
    },
    {
      "cell_type": "code",
      "execution_count": null,
      "metadata": {
        "colab": {
          "base_uri": "https://localhost:8080/"
        },
        "id": "rTLnXEAvQ8EH",
        "outputId": "86d9d4c1-3b5c-4e9d-cf87-a1e0dc90f55d"
      },
      "outputs": [
        {
          "output_type": "stream",
          "name": "stdout",
          "text": [
            "Completed!\n"
          ]
        }
      ],
      "source": [
        "!pip install flask --quiet\n",
        "!pip install flask-ngrok --quiet\n",
        "print(\"Completed!\")"
      ]
    },
    {
      "cell_type": "markdown",
      "source": [
        "# Setup and Installation of Ngrok\n",
        "\n",
        "install ngrok linux version using the following command:\n",
        "\n",
        "!wget https://bin.equinox.io/c/4VmDzA7iaHb/ngrok-stable-linux-amd64.tgz"
      ],
      "metadata": {
        "id": "OyiFt9TaZJib"
      }
    },
    {
      "cell_type": "code",
      "source": [
        "!wget https://bin.equinox.io/c/4VmDzA7iaHb/ngrok-stable-linux-amd64.tgz"
      ],
      "metadata": {
        "colab": {
          "base_uri": "https://localhost:8080/"
        },
        "id": "DyxoMTQiRKuu",
        "outputId": "0af65583-38a6-4b3c-f039-76952fe47e66"
      },
      "execution_count": null,
      "outputs": [
        {
          "output_type": "stream",
          "name": "stdout",
          "text": [
            "--2023-06-07 10:29:16--  https://bin.equinox.io/c/4VmDzA7iaHb/ngrok-stable-linux-amd64.tgz\n",
            "Resolving bin.equinox.io (bin.equinox.io)... 18.205.222.128, 52.202.168.65, 54.161.241.46, ...\n",
            "Connecting to bin.equinox.io (bin.equinox.io)|18.205.222.128|:443... connected.\n",
            "HTTP request sent, awaiting response... 200 OK\n",
            "Length: 13856790 (13M) [application/octet-stream]\n",
            "Saving to: ‘ngrok-stable-linux-amd64.tgz’\n",
            "\n",
            "ngrok-stable-linux- 100%[===================>]  13.21M  13.7MB/s    in 1.0s    \n",
            "\n",
            "2023-06-07 10:29:17 (13.7 MB/s) - ‘ngrok-stable-linux-amd64.tgz’ saved [13856790/13856790]\n",
            "\n"
          ]
        }
      ]
    },
    {
      "cell_type": "markdown",
      "source": [
        "extract the downloaded file using the following command:\n",
        "\n",
        "!tar -xvf /content/ngrok-stable-linux-amd64.tgz"
      ],
      "metadata": {
        "id": "6XardWB8ZhPJ"
      }
    },
    {
      "cell_type": "code",
      "source": [
        "!tar -xvf /content/ngrok-stable-linux-amd64.tgz"
      ],
      "metadata": {
        "colab": {
          "base_uri": "https://localhost:8080/"
        },
        "id": "DhTV0_jERQ4H",
        "outputId": "94ea2305-cd11-4156-ea29-80ddbba567d1"
      },
      "execution_count": null,
      "outputs": [
        {
          "output_type": "stream",
          "name": "stdout",
          "text": [
            "ngrok\n"
          ]
        }
      ]
    },
    {
      "cell_type": "markdown",
      "source": [
        "The next step is to get your AuthToken from ngrok using this link:\n",
        "\n",
        "# https://dashboard.ngrok.com/get-started/your-authtoken\n",
        "\n",
        "paste your AuthToken here and execute this command:\n",
        "\n",
        "!./ngrok authtoken 1WfN3RWTRByiPHSz9r0*a*b*c*d*e*f*g...39ySgC665zpQp"
      ],
      "metadata": {
        "id": "YEUaezYvRdJb"
      }
    },
    {
      "cell_type": "code",
      "source": [
        "!./ngrok authtoken 2QsDRYQP3HzWA0R28YyBnZmj2nI_3tAsSgyAPmf1a8t1Zvf5r"
      ],
      "metadata": {
        "colab": {
          "base_uri": "https://localhost:8080/"
        },
        "id": "IGIDOZhrRS99",
        "outputId": "94f5c068-d9fb-421a-fcd6-ff9ef5ea1771"
      },
      "execution_count": null,
      "outputs": [
        {
          "output_type": "stream",
          "name": "stdout",
          "text": [
            "Authtoken saved to configuration file: /root/.ngrok2/ngrok.yml\n"
          ]
        }
      ]
    },
    {
      "cell_type": "markdown",
      "source": [
        "# Flask 範例\n",
        "\n",
        "```python\n",
        "# import Flask from flask module\n",
        "from flask import Flask\n",
        "\n",
        "# import run_with_ngrok from flask_ngrok to run the app using ngrok\n",
        "from flask_ngrok import run_with_ngrok\n",
        "\n",
        "app = Flask(__name__) #app name\n",
        "run_with_ngrok(app)\n",
        "\n",
        "@app.route(\"/\")\n",
        "def hello():\n",
        "    return \"<Title>lendy</Title><h1>hello world</h1>\"\n",
        "\n",
        "if __name__ == \"__main__\":\n",
        "    app.run()\n",
        "\n",
        "```"
      ],
      "metadata": {
        "id": "Sp6hP9d-VA3J"
      }
    },
    {
      "cell_type": "code",
      "source": [
        "# import Flask from flask module\n",
        "from flask import Flask\n",
        "\n",
        "# import run_with_ngrok from flask_ngrok to run the app using ngrok\n",
        "from flask_ngrok import run_with_ngrok\n",
        "\n",
        "app = Flask(__name__) #app name\n",
        "run_with_ngrok(app)\n",
        "\n",
        "@app.route(\"/\")\n",
        "def hello():\n",
        "    return \"<Title>lendy</Title><h1>hello world</h1>\"\n",
        "\n",
        "if __name__ == \"__main__\":\n",
        "    app.run()"
      ],
      "metadata": {
        "id": "ndJpevz0aBLS"
      },
      "execution_count": null,
      "outputs": []
    },
    {
      "cell_type": "markdown",
      "source": [
        "![](https://miro.medium.com/v2/resize:fit:1100/format:webp/1*Nus3zpMLMhI9TKZ324e4aw.jpeg)"
      ],
      "metadata": {
        "id": "3UmW_oHWR3ya"
      }
    },
    {
      "cell_type": "markdown",
      "source": [
        "# 關聯(關係)式資料庫\n",
        "\n",
        "資料表( Table )是資料庫( Database )中存放資料( Data )和資料與資料之間關係( Relationship )的集合。\n",
        "\n",
        "一個資料庫裡面通常都包含多個表，如學生的表、班級的表、課程的表...等等，表裡面存放資料，如學生的表裡面存放學生的資料、班級的表裡面存放班級的資料、課程的表裡面存放課程的資料...等等。為了能找到表中的資料，表裡面的每筆紀錄往往都會分配唯一的 ID，即所謂的主鍵( Primary Key)，藉此找到每筆紀錄。\n",
        "\n",
        "外鍵( Foreign Key )是用來建立資料表之間的關係，其外鍵內含值必須要與另一個資料表的主鍵相同。即表和表之間的關聯是通過外鍵。"
      ],
      "metadata": {
        "id": "K1GOmjaBcjSn"
      }
    },
    {
      "cell_type": "markdown",
      "source": [
        "# DB-API\n",
        "Python 應用程式如果要連結到資料庫，如 MySQL、SQL Server、PostgreSQL 亦或是 SQLite，因為 Python 定義了一套操作資料庫的 API，稱 DB-API，不同的資料庫只需要提供符合 DB-API 的資料庫驅動程式( Driver )，各種各樣的資料庫系統，就能有一致的操作介面，也就是說，開發者能使用 DB-API，來操作不同資料庫。\n",
        "\n",
        "DB-API與底層資料庫互動示例：\n",
        "\n",
        "①程式碼 ⇆ ②使用DB-API ⇆ ③資料庫驅動程式 ⇆ ④底層資料庫(如SQLite、MySQL等)\n",
        "\n",
        "舉例來說，SQLite 是用C寫的一種體積很小的關聯式資料庫，它的資料庫就是一個檔案，所以經常被整合到應用程式中，在 iOS 和 Android 的 App 中都可以看到。Python 內置了 SQLite3 的驅動程式，所以，在 Python 中使用 SQLite 是不需要再安裝任何東西，就可以直接導入( import )使用，直接操作 SQLite 資料庫。\n",
        "\n",
        "要操作關聯式資料庫，首先需要建立資料庫連線，一個資料庫的連線稱為一個 Connection。透過資料庫的連線，可以建立游標( Cursor )，通過 Cursor 執行 SQL 語句，然後得到執行結果。\n"
      ],
      "metadata": {
        "id": "t2n7NgYXcqfT"
      }
    },
    {
      "cell_type": "markdown",
      "source": [
        "異動資料庫\n",
        "\n",
        "```python\n",
        "# 導入 SQLite 驅動程式:\n",
        "import sqlite3\n",
        "# 建立資料庫連線\n",
        "# 資料庫檔案假設是test.db\n",
        "# 如果資料庫檔案不存在，會自動在當前目錄建立\n",
        "conn = sqlite3.connect('test.db')\n",
        "# 透過資料庫的連線建立游標(Cursor)\n",
        "cursor = conn.cursor()\n",
        "# 執行\"建立 student 資料表\"的 SQL\n",
        "cursor.execute('create table student (id varchar(20) primary key, name varchar(20))')\n",
        "# <sqlite3.Cursor object at 0x128fab307>\n",
        "# 繼續執行\"新增一筆 student 紀錄\"的 SQL 語句\n",
        "cursor.execute('insert into student (id, name) values (\\'1\\', \\'lendy\\')')\n",
        "# <sqlite3.Cursor object at 0x128fab307>\n",
        "# 通過 rowcount 獲得新增筆數\n",
        "print(cursor.rowcount)\n",
        "# 1\n",
        "# 提交事務\n",
        "conn.commit()\n",
        "# 關閉 Cursor\n",
        "cursor.close()\n",
        "# 關閉 Connection\n",
        "conn.close()\n",
        "```\n",
        "\n",
        "查詢記錄\n",
        "\n",
        "```python\n",
        "# 導入 SQLite 驅動程式:\n",
        "import sqlite3\n",
        "# 建立資料庫連線\n",
        "# 資料庫檔案假設是test.db\n",
        "# 如果資料庫檔案不存在，會自動在當前目錄建立\n",
        "conn = sqlite3.connect('test.db')\n",
        "# 透過資料庫的連線建立游標(Cursor)\n",
        "cursor = conn.cursor()\n",
        "# 執行\"查詢 student 資料表\"的 SQL\n",
        "cursor.execute('select * from student where id=?', ('1',))\n",
        "# <sqlite3.Cursor object at 0x10f8aa340>\n",
        "# 得到查詢結果\n",
        "values = cursor.fetchall()\n",
        "print(values)\n",
        "# [('1', 'lendy')]\n",
        "cursor.close()\n",
        "conn.close()\n",
        "```\n",
        "\n",
        "Connection 和 Cursor 使用後一定要記得關閉。\n",
        "\n",
        "使用 Cursor 執行 insert 、 update 、 delete 語句時，執行結果由 rowcount 返回， 返回值為影響的筆數(行數)。\n",
        "\n",
        "使用 Cursor 執行 select 時，通過 fetchall() 可以拿到一個 list，每個元素都是一個 tuple，對應一筆記錄。\n",
        "\n",
        "如果 SQL 語句帶有參數(即?)，可依照參數的位置一個對一個傳遞，例如：\n",
        "\n",
        "```python\n",
        "cursor.execute('select * from user where name=? and pwd=?', ('abc', 'password'))\n",
        "```\n",
        "\n",
        "SQLite 支持常見的標準 SQL 語句，以及常見的資料類型，相關細節請參閱 SQLite 官方網站。"
      ],
      "metadata": {
        "id": "7Tw8PWwAfnNz"
      }
    },
    {
      "cell_type": "code",
      "source": [
        "# 導入 SQLite 驅動程式:\n",
        "import sqlite3\n",
        "# 建立資料庫連線\n",
        "# 資料庫檔案假設是test.db\n",
        "# 如果資料庫檔案不存在，會自動在當前目錄建立\n",
        "conn = sqlite3.connect('test.db')\n",
        "# 透過資料庫的連線建立游標(Cursor)\n",
        "cursor = conn.cursor()\n",
        "# 執行\"建立 student 資料表\"的 SQL\n",
        "# cursor.execute('create table student (id varchar(20) primary key, name varchar(20))')\n",
        "# <sqlite3.Cursor object at 0x128fab307>\n",
        "# 繼續執行\"新增一筆 student 紀錄\"的 SQL 語句\n",
        "cursor.execute('insert into student (id, name) values (\\'3\\', \\'bill\\')')\n",
        "# <sqlite3.Cursor object at 0x128fab307>\n",
        "# 通過 rowcount 獲得新增筆數\n",
        "print(cursor.rowcount)\n",
        "# 1\n",
        "# 提交事務\n",
        "conn.commit()\n",
        "# 關閉 Cursor\n",
        "cursor.close()\n",
        "# 關閉 Connection\n",
        "conn.close()"
      ],
      "metadata": {
        "colab": {
          "base_uri": "https://localhost:8080/"
        },
        "id": "rIWLsEhXhPZ-",
        "outputId": "e8792b83-34be-4413-de42-0307ba9465e3"
      },
      "execution_count": null,
      "outputs": [
        {
          "output_type": "stream",
          "name": "stdout",
          "text": [
            "1\n"
          ]
        }
      ]
    },
    {
      "cell_type": "code",
      "source": [
        "# 導入 SQLite 驅動程式:\n",
        "import sqlite3\n",
        "# 建立資料庫連線\n",
        "# 資料庫檔案假設是test.db\n",
        "# 如果資料庫檔案不存在，會自動在當前目錄建立\n",
        "conn = sqlite3.connect('test.db')\n",
        "# 透過資料庫的連線建立游標(Cursor)\n",
        "cursor = conn.cursor()\n",
        "# 執行\"查詢 student 資料表\"的 SQL\n",
        "# cursor.execute('select * from student where id=?', ('1',))\n",
        "cursor.execute('select * from student')\n",
        "# <sqlite3.Cursor object at 0x10f8aa340>\n",
        "# 得到查詢結果\n",
        "values = cursor.fetchall()\n",
        "print(values)\n",
        "# [('1', 'lendy')]\n",
        "cursor.close()\n",
        "conn.close()"
      ],
      "metadata": {
        "colab": {
          "base_uri": "https://localhost:8080/"
        },
        "id": "sClF0bjxhgQe",
        "outputId": "6ea302e3-46df-4d53-f2b2-e4fda85a3716"
      },
      "execution_count": null,
      "outputs": [
        {
          "output_type": "stream",
          "name": "stdout",
          "text": [
            "[('1', 'lendy'), ('2', 'mary'), ('3', 'bill')]\n"
          ]
        }
      ]
    },
    {
      "cell_type": "markdown",
      "source": [
        "## Python sqlite3 API\n",
        "\n",
        "|      | API                                                          |\n",
        "| :--- | :----------------------------------------------------------- |\n",
        "| 1    | **sqlite3.connect(database [,timeout ,other optional arguments])** 該 API 打開一個到 SQLite 資料庫檔 database 的連結。您可以使用 \":memory:\" 來在 RAM 中打開一個到 database 的資料庫連接，而不是在硬碟上打開。如果資料庫成功打開，則返回一個連線物件。當一個資料庫被多個連接訪問，且其中一個修改了資料庫，此時 SQLite 資料庫被鎖定，直到事務提交。timeout 參數表示連接等待鎖定的持續時間，直到發生異常斷開連接。timeout 參數默認是 5.0（5 秒）。如果給定的資料庫名稱 filename 不存在，則該調用將創建一個資料庫。如果您不想在目前的目錄中創建資料庫，那麼您可以指定帶有路徑的檔案名，這樣您就能在任意地方創建資料庫。 |\n",
        "| 2    | **connection.cursor([cursorClass])** 該常式創建一個 **cursor**，將在 Python 資料庫程式設計中用到。該方法接受一個單一的可選的參數 cursorClass。如果提供了該參數，則它必須是一個擴展自 sqlite3.Cursor 的自訂的 cursor 類。 |\n",
        "| 3    | **cursor.execute(sql [, optional parameters])** 該常式執行一個 SQL 語句。該 SQL 語句可以被參數化（即使用預留位置代替 SQL 文本）。sqlite3 模組支援兩種類型的預留位置：問號和命名預留位置（命名樣式）。例如：cursor.execute(\"insert into people values (?, ?)\", (who, age)) |\n",
        "| 9    | **connection.total_changes()** 該常式返回自資料庫連接打開以來被修改、插入或刪除的資料庫總行數。 |\n",
        "| 10   | **connection.commit()** 該方法提交當前的事務。如果您未調用該方法，那麼自您上一次調用 commit() 以來所做的任何動作對其他資料庫連接來說是不可見的。 |\n",
        "| 11   | **connection.rollback()** 該方法回滾自上一次調用 commit() 以來對資料庫所做的更改。 |\n",
        "| 12   | **connection.close()** 該方法關閉資料庫連接。請注意，這不會自動調用 commit()。如果您之前未調用 commit() 方法，就直接關閉資料庫連接，您所做的所有更改將全部丟失！ |\n",
        "| 13   | **cursor.fetchone()** 該方法獲取查詢結果集中的下一行，返回一個單一的序列，當沒有更多可用的資料時，則返回 None。 |\n",
        "| 14   | **cursor.fetchmany([size=cursor.arraysize])** 該方法獲取查詢結果集中的下一行組，返回一個列表。當沒有更多的可用的行時，則返回一個空的列表。該方法嘗試獲取由 size 參數指定的盡可能多的行。 |\n",
        "| 15   | **cursor.fetchall()** 該常式獲取查詢結果集中所有（剩餘）的行，返回一個列表。當沒有可用的行時，則返回一個空的列表。 |\n",
        "\n"
      ],
      "metadata": {
        "id": "eMdFg5RHgKIZ"
      }
    },
    {
      "cell_type": "markdown",
      "source": [
        "# 範例\n",
        "\n",
        "https://www.vrsofttech.com/python-flask/flask-with-sqlite-crud-application\n",
        "\n"
      ],
      "metadata": {
        "id": "4DPiJJzKqPhd"
      }
    },
    {
      "cell_type": "markdown",
      "source": [
        "# 範例\n",
        "```python\n",
        "import sqlite3 as sql\n",
        "\n",
        "#connect to SQLite\n",
        "con = sql.connect('db_web.db')\n",
        "\n",
        "#Create a Connection\n",
        "cur = con.cursor()\n",
        "\n",
        "#Drop users table if already exsist.\n",
        "cur.execute(\"DROP TABLE IF EXISTS users\")\n",
        "\n",
        "#Create users table  in db_web database\n",
        "sql ='''CREATE TABLE \"users\" (\n",
        "\t\"UID\"\tINTEGER PRIMARY KEY AUTOINCREMENT,\n",
        "\t\"UNAME\"\tTEXT,\n",
        "\t\"CONTACT\"\tTEXT\n",
        ")'''\n",
        "cur.execute(sql)\n",
        "\n",
        "#commit changes\n",
        "con.commit()\n",
        "\n",
        "#close the connection\n",
        "con.close()\n",
        "```"
      ],
      "metadata": {
        "id": "vUjVokjvpZ3I"
      }
    },
    {
      "cell_type": "code",
      "source": [
        "import sqlite3 as sql\n",
        "\n",
        "#connect to SQLite\n",
        "con = sql.connect('db_web.db')\n",
        "\n",
        "#Create a Connection\n",
        "cur = con.cursor()\n",
        "\n",
        "#Drop users table if already exsist.\n",
        "cur.execute(\"DROP TABLE IF EXISTS users\")\n",
        "\n",
        "#Create users table  in db_web database\n",
        "sql ='''CREATE TABLE \"users\" (\n",
        "\t\"UID\"\tINTEGER PRIMARY KEY AUTOINCREMENT,\n",
        "\t\"UNAME\"\tTEXT,\n",
        "\t\"CONTACT\"\tTEXT\n",
        ")'''\n",
        "cur.execute(sql)\n",
        "\n",
        "#commit changes\n",
        "con.commit()\n",
        "\n",
        "#close the connection\n",
        "con.close()"
      ],
      "metadata": {
        "id": "gfcbCY0SR0i-"
      },
      "execution_count": null,
      "outputs": []
    },
    {
      "cell_type": "markdown",
      "source": [
        "範例\n",
        "```python\n",
        "# import Flask from flask module\n",
        "from flask import Flask,render_template,request,redirect,url_for,flash\n",
        "# import sqlite3\n",
        "import sqlite3 as sql\n",
        "# import run_with_ngrok from flask_ngrok to run the app using ngrok\n",
        "from flask_ngrok import run_with_ngrok\n",
        "\n",
        "app = Flask(__name__) #app name\n",
        "run_with_ngrok(app)\n",
        "\n",
        "@app.route(\"/\")\n",
        "@app.route(\"/index\")\n",
        "def index():\n",
        "    con=sql.connect(\"db_web.db\")\n",
        "    con.row_factory=sql.Row\n",
        "    cur=con.cursor()\n",
        "    cur.execute(\"select * from users\")\n",
        "    data=cur.fetchall()\n",
        "    # return render_template(\"index.html\",datas=data)\n",
        "    return render_template(\"index1.html\",datas=data)\n",
        "\n",
        "@app.route(\"/add_user\",methods=['POST','GET'])\n",
        "def add_user():\n",
        "    if request.method=='POST':\n",
        "        uname=request.form['uname']\n",
        "        contact=request.form['contact']\n",
        "        con=sql.connect(\"db_web.db\")\n",
        "        cur=con.cursor()\n",
        "        cur.execute(\"insert into users(UNAME,CONTACT) values (?,?)\",(uname,contact))\n",
        "        con.commit()\n",
        "        flash('User Added','success')\n",
        "        return redirect(url_for(\"index\"))\n",
        "    return render_template(\"add_user.html\")\n",
        "\n",
        "@app.route(\"/edit_user/<string:uid>\",methods=['POST','GET'])\n",
        "def edit_user(uid):\n",
        "    if request.method=='POST':\n",
        "        uname=request.form['uname']\n",
        "        contact=request.form['contact']\n",
        "        con=sql.connect(\"db_web.db\")\n",
        "        cur=con.cursor()\n",
        "        cur.execute(\"update users set UNAME=?,CONTACT=? where UID=?\",(uname,contact,uid))\n",
        "        con.commit()\n",
        "        flash('User Updated','success')\n",
        "        return redirect(url_for(\"index\"))\n",
        "    con=sql.connect(\"db_web.db\")\n",
        "    con.row_factory=sql.Row\n",
        "    cur=con.cursor()\n",
        "    cur.execute(\"select * from users where UID=?\",(uid,))\n",
        "    data=cur.fetchone()\n",
        "    return render_template(\"edit_user.html\",datas=data)\n",
        "    \n",
        "@app.route(\"/delete_user/<string:uid>\",methods=['GET'])\n",
        "def delete_user(uid):\n",
        "    con=sql.connect(\"db_web.db\")\n",
        "    cur=con.cursor()\n",
        "    cur.execute(\"delete from users where UID=?\",(uid,))\n",
        "    con.commit()\n",
        "    flash('User Deleted','warning')\n",
        "    return redirect(url_for(\"index\"))\n",
        "    \n",
        "if __name__=='__main__':\n",
        "    app.secret_key='admin123'\n",
        "    app.run()\n",
        "```"
      ],
      "metadata": {
        "id": "vHicBLnDpooI"
      }
    },
    {
      "cell_type": "markdown",
      "source": [
        "# 範例步驟\n",
        "\n",
        "## import\n",
        "\n",
        "## CRUD(新增:Create , 讀取:Read, 更新: Update, 刪除:Delete)"
      ],
      "metadata": {
        "id": "dZ9k42d3r_s5"
      }
    },
    {
      "cell_type": "markdown",
      "source": [
        "### Read\n",
        "```Python\n",
        "con=sql.connect(\"db_web.db\")\n",
        "# con.row_factory=sql.Row\n",
        "cur=con.cursor()\n",
        "cur.execute(\"select * from users\")\n",
        "data=cur.fetchall()\n",
        "data\n",
        "```"
      ],
      "metadata": {
        "id": "8MnVvHzxs5tj"
      }
    },
    {
      "cell_type": "code",
      "source": [
        "import sqlite3 as sql"
      ],
      "metadata": {
        "id": "ltYSgfCNkAUA"
      },
      "execution_count": null,
      "outputs": []
    },
    {
      "cell_type": "code",
      "source": [
        "con=sql.connect(\"db_web.db\")\n",
        "# con.row_factory=sql.Row\n",
        "cur=con.cursor()\n",
        "cur.execute(\"select * from users\")\n",
        "data=cur.fetchall()\n",
        "data"
      ],
      "metadata": {
        "colab": {
          "base_uri": "https://localhost:8080/"
        },
        "id": "CofphmOZsa9z",
        "outputId": "37f2545d-776c-47a4-e76c-6e87093aa49e"
      },
      "execution_count": null,
      "outputs": [
        {
          "output_type": "execute_result",
          "data": {
            "text/plain": [
              "[(1, 'lendy', 'lendy.lin@gmail.com')]"
            ]
          },
          "metadata": {},
          "execution_count": 25
        }
      ]
    },
    {
      "cell_type": "markdown",
      "source": [
        "### Create\n",
        "```Python\n",
        "con=sql.connect(\"db_web.db\")\n",
        "cur=con.cursor()\n",
        "cur.execute(\"insert into users(UNAME,CONTACT) values (?,?)\",('lendy','lendy.lin@gmail.com'))\n",
        "con.commit()\n",
        "```"
      ],
      "metadata": {
        "id": "QEu9HfaZtTDI"
      }
    },
    {
      "cell_type": "code",
      "source": [
        "con=sql.connect(\"db_web.db\")\n",
        "cur=con.cursor()\n",
        "cur.execute(\"insert into users(UNAME,CONTACT) values (?,?)\",('mary','mary.lu@gmail.com'))\n",
        "con.commit()"
      ],
      "metadata": {
        "id": "VTLK_vJ5sm4Z"
      },
      "execution_count": null,
      "outputs": []
    },
    {
      "cell_type": "markdown",
      "source": [
        "### Update\n",
        "```python\n",
        "con=sql.connect(\"db_web.db\")\n",
        "cur=con.cursor()\n",
        "cur.execute(\"update users set UNAME=?,CONTACT=? where UID=?\",('bill','bill.chen@gmail.com','1'))\n",
        "con.commit()\n",
        "```"
      ],
      "metadata": {
        "id": "AmFbZkg_teUf"
      }
    },
    {
      "cell_type": "code",
      "source": [
        "con=sql.connect(\"db_web.db\")\n",
        "cur=con.cursor()\n",
        "cur.execute(\"update users set UNAME=?,CONTACT=? where UID=?\",('bill','bill.chen@gmail.com','2'))\n",
        "con.commit()"
      ],
      "metadata": {
        "id": "87crTtMat0ed"
      },
      "execution_count": null,
      "outputs": []
    },
    {
      "cell_type": "markdown",
      "source": [
        "### Delete\n",
        "```python\n",
        "con=sql.connect(\"db_web.db\")\n",
        "cur=con.cursor()\n",
        "cur.execute(\"delete from users where UID=?\",('1',))\n",
        "con.commit()\n",
        "```"
      ],
      "metadata": {
        "id": "WkCre-ust5jo"
      }
    },
    {
      "cell_type": "code",
      "source": [
        "con=sql.connect(\"db_web.db\")\n",
        "cur=con.cursor()\n",
        "cur.execute(\"delete from users where UID=?\",('2',))\n",
        "con.commit()"
      ],
      "metadata": {
        "id": "02zTYihrt5GX"
      },
      "execution_count": null,
      "outputs": []
    },
    {
      "cell_type": "code",
      "source": [
        "# import Flask from flask module\n",
        "from flask import Flask,render_template,request,redirect,url_for,flash\n",
        "# import sqlite3\n",
        "import sqlite3 as sql\n",
        "# import run_with_ngrok from flask_ngrok to run the app using ngrok\n",
        "from flask_ngrok import run_with_ngrok\n",
        "\n",
        "app = Flask(__name__) #app name\n",
        "run_with_ngrok(app)\n",
        "\n",
        "@app.route(\"/\")\n",
        "@app.route(\"/index\")\n",
        "def index():\n",
        "    con=sql.connect(\"db_web.db\")\n",
        "    con.row_factory=sql.Row\n",
        "    cur=con.cursor()\n",
        "    cur.execute(\"select * from users\")\n",
        "    data=cur.fetchall()\n",
        "\n",
        "    return render_template(\"index.html\",datas=data)\n",
        "\n",
        "@app.route(\"/add_user\",methods=['POST','GET'])\n",
        "def add_user():\n",
        "    if request.method=='POST':\n",
        "        uname=request.form['uname']\n",
        "        contact=request.form['contact']\n",
        "        con=sql.connect(\"db_web.db\")\n",
        "        cur=con.cursor()\n",
        "        cur.execute(\"insert into users(UNAME,CONTACT) values (?,?)\",(uname,contact))\n",
        "        con.commit()\n",
        "        flash('User Added','success')\n",
        "        return redirect(url_for(\"index\"))\n",
        "    return render_template(\"add_user.html\")\n",
        "\n",
        "@app.route(\"/edit_user/<string:uid>\",methods=['POST','GET'])\n",
        "def edit_user(uid):\n",
        "    if request.method=='POST':\n",
        "        uname=request.form['uname']\n",
        "        contact=request.form['contact']\n",
        "        con=sql.connect(\"db_web.db\")\n",
        "        cur=con.cursor()\n",
        "        cur.execute(\"update users set UNAME=?,CONTACT=? where UID=?\",(uname,contact,uid))\n",
        "        con.commit()\n",
        "        flash('User Updated','success')\n",
        "        return redirect(url_for(\"index\"))\n",
        "    con=sql.connect(\"db_web.db\")\n",
        "    con.row_factory=sql.Row\n",
        "    cur=con.cursor()\n",
        "    cur.execute(\"select * from users where UID=?\",(uid,))\n",
        "    data=cur.fetchone()\n",
        "    return render_template(\"edit_user.html\",datas=data)\n",
        "\n",
        "@app.route(\"/delete_user/<string:uid>\",methods=['GET'])\n",
        "def delete_user(uid):\n",
        "    con=sql.connect(\"db_web.db\")\n",
        "    cur=con.cursor()\n",
        "    cur.execute(\"delete from users where UID=?\",(uid,))\n",
        "    con.commit()\n",
        "    flash('User Deleted','warning')\n",
        "    return redirect(url_for(\"index\"))\n",
        "\n",
        "if __name__=='__main__':\n",
        "    app.secret_key='admin123'\n",
        "    app.run()"
      ],
      "metadata": {
        "colab": {
          "base_uri": "https://localhost:8080/"
        },
        "id": "_Qwh5pjyR3oU",
        "outputId": "f96aae6b-83b1-457c-adf7-668ca5ac5093"
      },
      "execution_count": null,
      "outputs": [
        {
          "output_type": "stream",
          "name": "stdout",
          "text": [
            " * Serving Flask app '__main__'\n",
            " * Debug mode: off\n"
          ]
        },
        {
          "output_type": "stream",
          "name": "stderr",
          "text": [
            "INFO:werkzeug:\u001b[31m\u001b[1mWARNING: This is a development server. Do not use it in a production deployment. Use a production WSGI server instead.\u001b[0m\n",
            " * Running on http://127.0.0.1:5000\n",
            "INFO:werkzeug:\u001b[33mPress CTRL+C to quit\u001b[0m\n"
          ]
        },
        {
          "output_type": "stream",
          "name": "stdout",
          "text": [
            " * Running on http://86ef-35-204-189-210.ngrok-free.app\n",
            " * Traffic stats available on http://127.0.0.1:4040\n"
          ]
        },
        {
          "output_type": "stream",
          "name": "stderr",
          "text": [
            "INFO:werkzeug:127.0.0.1 - - [07/Jun/2023 12:01:24] \"GET / HTTP/1.1\" 200 -\n",
            "INFO:werkzeug:127.0.0.1 - - [07/Jun/2023 12:01:25] \"\u001b[33mGET /favicon.ico HTTP/1.1\u001b[0m\" 404 -\n",
            "INFO:werkzeug:127.0.0.1 - - [07/Jun/2023 12:01:27] \"GET /add_user HTTP/1.1\" 200 -\n",
            "INFO:werkzeug:127.0.0.1 - - [07/Jun/2023 12:01:31] \"\u001b[32mPOST /add_user HTTP/1.1\u001b[0m\" 302 -\n",
            "INFO:werkzeug:127.0.0.1 - - [07/Jun/2023 12:01:31] \"GET /index HTTP/1.1\" 200 -\n",
            "INFO:werkzeug:127.0.0.1 - - [07/Jun/2023 12:04:36] \"GET /add_user HTTP/1.1\" 200 -\n",
            "INFO:werkzeug:127.0.0.1 - - [07/Jun/2023 12:04:41] \"GET /edit_user/1 HTTP/1.1\" 200 -\n",
            "INFO:werkzeug:127.0.0.1 - - [07/Jun/2023 12:07:38] \"GET /index HTTP/1.1\" 200 -\n",
            "INFO:werkzeug:127.0.0.1 - - [07/Jun/2023 12:08:22] \"GET /index HTTP/1.1\" 200 -\n",
            "INFO:werkzeug:127.0.0.1 - - [07/Jun/2023 12:09:06] \"GET /index HTTP/1.1\" 200 -\n",
            "INFO:werkzeug:127.0.0.1 - - [07/Jun/2023 12:09:15] \"\u001b[32mGET /delete_user/4 HTTP/1.1\u001b[0m\" 302 -\n",
            "INFO:werkzeug:127.0.0.1 - - [07/Jun/2023 12:09:15] \"GET /index HTTP/1.1\" 200 -\n",
            "INFO:werkzeug:127.0.0.1 - - [07/Jun/2023 12:09:17] \"GET /index HTTP/1.1\" 200 -\n",
            "INFO:werkzeug:127.0.0.1 - - [07/Jun/2023 12:09:19] \"GET /index HTTP/1.1\" 200 -\n",
            "INFO:werkzeug:127.0.0.1 - - [07/Jun/2023 12:09:26] \"GET /index HTTP/1.1\" 200 -\n",
            "INFO:werkzeug:127.0.0.1 - - [07/Jun/2023 12:09:28] \"GET /index HTTP/1.1\" 200 -\n",
            "INFO:werkzeug:127.0.0.1 - - [07/Jun/2023 12:09:54] \"GET /index HTTP/1.1\" 200 -\n",
            "INFO:werkzeug:127.0.0.1 - - [07/Jun/2023 12:10:43] \"GET /index HTTP/1.1\" 200 -\n",
            "INFO:werkzeug:127.0.0.1 - - [07/Jun/2023 12:10:56] \"GET /index HTTP/1.1\" 200 -\n",
            "INFO:werkzeug:127.0.0.1 - - [07/Jun/2023 12:11:01] \"GET /add_user HTTP/1.1\" 200 -\n",
            "INFO:werkzeug:127.0.0.1 - - [07/Jun/2023 12:11:04] \"\u001b[32mPOST /add_user HTTP/1.1\u001b[0m\" 302 -\n",
            "INFO:werkzeug:127.0.0.1 - - [07/Jun/2023 12:11:05] \"GET /index HTTP/1.1\" 200 -\n",
            "INFO:werkzeug:127.0.0.1 - - [07/Jun/2023 12:11:07] \"GET /index HTTP/1.1\" 200 -\n",
            "INFO:werkzeug:127.0.0.1 - - [07/Jun/2023 12:11:09] \"GET /index HTTP/1.1\" 200 -\n",
            "INFO:werkzeug:127.0.0.1 - - [07/Jun/2023 12:11:15] \"GET /index HTTP/1.1\" 200 -\n",
            "INFO:werkzeug:127.0.0.1 - - [07/Jun/2023 12:11:24] \"GET / HTTP/1.1\" 200 -\n",
            "INFO:werkzeug:127.0.0.1 - - [07/Jun/2023 12:11:31] \"GET /index HTTP/1.1\" 200 -\n",
            "INFO:werkzeug:127.0.0.1 - - [07/Jun/2023 12:11:40] \"GET / HTTP/1.1\" 200 -\n",
            "INFO:werkzeug:127.0.0.1 - - [07/Jun/2023 12:11:48] \"GET /add_user HTTP/1.1\" 200 -\n",
            "INFO:werkzeug:127.0.0.1 - - [07/Jun/2023 12:11:51] \"\u001b[32mPOST /add_user HTTP/1.1\u001b[0m\" 302 -\n",
            "INFO:werkzeug:127.0.0.1 - - [07/Jun/2023 12:11:52] \"GET /index HTTP/1.1\" 200 -\n",
            "INFO:werkzeug:127.0.0.1 - - [07/Jun/2023 12:11:54] \"GET / HTTP/1.1\" 200 -\n",
            "INFO:werkzeug:127.0.0.1 - - [07/Jun/2023 12:11:58] \"GET /index HTTP/1.1\" 200 -\n",
            "INFO:werkzeug:127.0.0.1 - - [07/Jun/2023 12:12:02] \"GET / HTTP/1.1\" 200 -\n",
            "INFO:werkzeug:127.0.0.1 - - [07/Jun/2023 12:12:17] \"GET /add_user HTTP/1.1\" 200 -\n",
            "INFO:werkzeug:127.0.0.1 - - [07/Jun/2023 12:12:20] \"\u001b[32mPOST /add_user HTTP/1.1\u001b[0m\" 302 -\n",
            "INFO:werkzeug:127.0.0.1 - - [07/Jun/2023 12:12:20] \"GET /index HTTP/1.1\" 200 -\n",
            "INFO:werkzeug:127.0.0.1 - - [07/Jun/2023 12:12:23] \"GET /index HTTP/1.1\" 200 -\n"
          ]
        }
      ]
    },
    {
      "cell_type": "markdown",
      "source": [
        "Jinja（じんじゃ）在日文裡面是「神社」的意思。在這裡是指Python的一個元件庫。\n",
        "\n",
        "用 Jinja2 做網頁模板\n",
        "\n",
        "Jinja2樣板語言\n",
        "\n",
        "Jinja2樣板可以接受任何以文字為基礎的檔案副檔名，例如.html、.xml等。樣板語言，除了顯示普通內容外，還可以顯示變數，同時也有if statement和for迴圈指令。也可以在上面進行標籤、註釋等。\n",
        "\n",
        "變數\n",
        "\n",
        "樣板要顯示的變數，可以是一般的變數，也可以是字典（dict）或串列（list）。Jinja2樣板的語法與Python的語法有些不同處，使用上要注意。\n",
        "\n",
        "串列（list）：Python中的語法是 list_name[num]而在樣板語言則是：{{list_name.0}}\n",
        "\n",
        "流程控制\n",
        "\n",
        "可以控制程式流程的選擇、巡迴、傳回等。\n",
        "\n",
        "if statement 判斷\n",
        "\n",
        "用來判斷所指定的條件是否滿足，根據判斷的結果決定執行哪一個部分的程式碼。在這個部分Jinja2樣板與Python的敘述類似。\n",
        "\n",
        "for迴圈\n",
        "\n",
        "在Jinja2樣板中，可以使用for迴圈來顯示list或者是dict資料。使用方式與Python類似。在語法上要用{% for… %}與{% endfor %}來包裹資料項目。\n",
        "\n",
        "\n",
        "render_template：實現範本\n",
        "\n",
        "語法：render_template(“網頁檔案名稱.html”, 參數與區域變數)\n",
        "\n"
      ],
      "metadata": {
        "id": "bHuugrlQuUgD"
      }
    },
    {
      "cell_type": "markdown",
      "source": [
        "![image.png](data:image/png;base64,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)"
      ],
      "metadata": {
        "id": "82vV1e0cvVd0"
      }
    },
    {
      "cell_type": "markdown",
      "source": [
        "layout.html\n",
        "\n",
        "```HTML\n",
        "<html>\n",
        "  <head>\n",
        "    <title>Flask - SQLite </title>\n",
        "    <link rel=\"stylesheet\" href=\"https://maxcdn.bootstrapcdn.com/bootstrap/4.0.0/css/bootstrap.min.css\" integrity=\"sha384-Gn5384xqQ1aoWXA+058RXPxPg6fy4IWvTNh0E263XmFcJlSAwiGgFAW/dAiS6JXm\" crossorigin=\"anonymous\">\n",
        "    <script src=\"https://code.jquery.com/jquery-3.2.1.slim.min.js\" integrity=\"sha384-KJ3o2DKtIkvYIK3UENzmM7KCkRr/rE9/Qpg6aAZGJwFDMVNA/GpGFF93hXpG5KkN\" crossorigin=\"anonymous\"></script>\n",
        "    <script src=\"https://cdnjs.cloudflare.com/ajax/libs/popper.js/1.12.9/umd/popper.min.js\" integrity=\"sha384-ApNbgh9B+Y1QKtv3Rn7W3mgPxhU9K/ScQsAP7hUibX39j7fakFPskvXusvfa0b4Q\" crossorigin=\"anonymous\"></script>\n",
        "    <script src=\"https://maxcdn.bootstrapcdn.com/bootstrap/4.0.0/js/bootstrap.min.js\" integrity=\"sha384-JZR6Spejh4U02d8jOt6vLEHfe/JQGiRRSQQxSfFWpi1MquVdAyjUar5+76PVCmYl\" crossorigin=\"anonymous\"></script>\n",
        "  </head>\n",
        "  <body>\n",
        "    <div class='container pt-3'>\n",
        "      {% with messages=get_flashed_messages(with_categories=true) %}\n",
        "        {% if messages %}\n",
        "          {% for category,message in messages %}\n",
        "            <div class='alert alert-{{category}}'>{{message}}</div>\n",
        "          {% endfor %}\n",
        "        {% endif %}\n",
        "      {% endwith %}\n",
        "      {% block body %}\n",
        "      \n",
        "      {% endblock %}\n",
        "    </div>\n",
        "  </body>\n",
        "</html>\n",
        "```"
      ],
      "metadata": {
        "id": "uqNvx83GqCs7"
      }
    },
    {
      "cell_type": "markdown",
      "source": [
        "index.html\n",
        "\n",
        "```HTML\n",
        "{% extends 'layout.html' %}\n",
        "{% block body %}\n",
        "  <h3 class='text-center text-muted mb-3'>Flask - SQLite CRUD Application</h3>\n",
        "  <p class='text-right'><a href='{{url_for(\"add_user\")}}' class='btn btn-success '>+Add User</a></p>\n",
        "  <table class='table table-bordered'>\n",
        "    <thead>\n",
        "      <th>SNo</th>\n",
        "      <th>Name</th>\n",
        "      <th>Contact</th>\n",
        "      <th>Edit</th>\n",
        "      <th>Delete</th>\n",
        "    </thead>\n",
        "    <tbody>\n",
        "      {% for row in datas %}\n",
        "        <tr>\n",
        "          <td>{{loop.index}}</td>\n",
        "          <td>{{row.UNAME}}</td>\n",
        "          <td>{{row.CONTACT}}</td>\n",
        "          <td><a href='{{url_for(\"edit_user\",uid=row.UID)}}' class='btn btn-primary'>Edit</a></td>\n",
        "          <td><a href='{{url_for(\"delete_user\",uid=row.UID)}}' class='btn btn-danger' onclick='return confirm(\"Are You Sure\")'>Delete</a></td>\n",
        "        </tr>\n",
        "      {%endfor%}\n",
        "    </tbody>\n",
        "  </table>\n",
        "{% endblock %}\n",
        "```"
      ],
      "metadata": {
        "id": "gUAhd-eIqik9"
      }
    },
    {
      "cell_type": "markdown",
      "source": [
        "add_user.html\n",
        "\n",
        "```HTML\n",
        "{% extends 'layout.html' %}\n",
        "{% block body %}\n",
        "  <div class='row'>\n",
        "    <div class='col-5 mx-auto'>\n",
        "      <h3>Add user</h3><hr>\n",
        "      <form method='post' action='{{url_for(\"add_user\")}}'>\n",
        "        <div class='form-group'>\n",
        "          <label>User Name</label>\n",
        "          <input type='text' name='uname' required class='form-control'>\n",
        "        </div>\n",
        "        <div class='form-group'>\n",
        "          <label>Contact</label>\n",
        "          <input type='text' name='contact' required class='form-control'>\n",
        "        </div>\n",
        "        <input type='submit' value='Submit' class='btn btn-primary'>\n",
        "      </form>\n",
        "    \n",
        "    </div>\n",
        "  </div>\n",
        "{% endblock %}\n",
        "```"
      ],
      "metadata": {
        "id": "RAfxaWFVqgP5"
      }
    },
    {
      "cell_type": "markdown",
      "source": [
        "edit_user.html\n",
        "\n",
        "```HTML\n",
        "{% extends 'layout.html' %}\n",
        "{% block body %}\n",
        "  <div class='row'>\n",
        "    <div class='col-5 mx-auto'>\n",
        "      <h3>Edit user</h3><hr>\n",
        "      <form method='post' action='{{url_for(\"edit_user\",uid=datas.UID)}}'>\n",
        "        <div class='form-group'>\n",
        "          <label>User Name</label>\n",
        "          <input type='text' name='uname' required class='form-control' value='{{datas.UNAME}}'>\n",
        "        </div>\n",
        "        <div class='form-group'>\n",
        "          <label>Contact</label>\n",
        "          <input type='text' name='contact' required class='form-control' value='{{datas.CONTACT}}'>\n",
        "        </div>\n",
        "        <input type='submit' value='Submit' class='btn btn-primary'>\n",
        "      </form>\n",
        "    </div>\n",
        "  </div>\n",
        "{% endblock %}\n",
        "```"
      ],
      "metadata": {
        "id": "flGGj2e7qg-E"
      }
    },
    {
      "cell_type": "markdown",
      "source": [
        "# 爬蟲\n",
        "\n",
        "```python\n",
        "import requests\n",
        "\n",
        "from bs4 import BeautifulSoup\n",
        "\n",
        "url = 'https://e3d2-35-192-15-49.ngrok-free.app/'\n",
        "\n",
        "r = requests.get(url);\n",
        "\n",
        "sp = BeautifulSoup(r.text,'lxml')\n",
        "\n",
        "tbody = sp.find('tbody')\n",
        "\n",
        "datas = tbody.find_all('tr')\n",
        "\n",
        "for tr in datas:\n",
        "    print(tr.find_all('td')[1].text)\n",
        "```"
      ],
      "metadata": {
        "id": "LV1oCWYlymKi"
      }
    }
  ]
}