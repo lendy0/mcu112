{
  "nbformat": 4,
  "nbformat_minor": 0,
  "metadata": {
    "colab": {
      "provenance": [],
      "authorship_tag": "ABX9TyNjCCBbFefd/ZwxUZqCgb/b",
      "include_colab_link": true
    },
    "kernelspec": {
      "name": "python3",
      "display_name": "Python 3"
    },
    "language_info": {
      "name": "python"
    }
  },
  "cells": [
    {
      "cell_type": "markdown",
      "metadata": {
        "id": "view-in-github",
        "colab_type": "text"
      },
      "source": [
        "<a href=\"https://colab.research.google.com/github/lendy0/mcu112/blob/main/0327_if%E7%B7%B4%E7%BF%92.ipynb\" target=\"_parent\"><img src=\"https://colab.research.google.com/assets/colab-badge.svg\" alt=\"Open In Colab\"/></a>"
      ]
    },
    {
      "cell_type": "markdown",
      "source": [
        "門票一張50元。但是:\n",
        "* 年齡(age)小於12歲\n",
        "* VIP等級(level)大於3\n",
        "* 存款(saving)大於10000\n",
        "免費!\n",
        "\n",
        "---\n",
        "```python\n",
        "#有問題的範例程式\n",
        "age = int(input(\"age:\"))\n",
        "level = int(input(\"level:\"))\n",
        "saving = int(input(\"saving:\"))\n",
        "if age < 12:\n",
        "    print('Free')\n",
        "if level > 3:\n",
        "    print('Free')\n",
        "if saving > 10000:\n",
        "    print('Free')\n",
        "print('$50')\n",
        "```"
      ],
      "metadata": {
        "id": "HE4FoBmA66Kt"
      }
    },
    {
      "cell_type": "markdown",
      "source": [
        "請用if-else"
      ],
      "metadata": {
        "id": "vBmKtYT269Z8"
      }
    },
    {
      "cell_type": "code",
      "source": [
        "age = int(input(\"age:\"))\n",
        "level = int(input(\"level:\"))\n",
        "saving = int(input(\"saving:\"))\n",
        "if age < 12:\n",
        "    print('Free')\n",
        "if level > 3:\n",
        "    print('Free')\n",
        "if saving > 10000:\n",
        "    print('Free')\n",
        "print('$50')"
      ],
      "metadata": {
        "id": "Jhel-U7k68SD"
      },
      "execution_count": null,
      "outputs": []
    },
    {
      "cell_type": "markdown",
      "source": [
        "請用if-elseif"
      ],
      "metadata": {
        "id": "j6agVavX7Gzx"
      }
    },
    {
      "cell_type": "code",
      "source": [
        "age = int(input(\"age:\"))\n",
        "level = int(input(\"level:\"))\n",
        "saving = int(input(\"saving:\"))\n",
        "if age < 12:\n",
        "    print('Free')\n",
        "if level > 3:\n",
        "    print('Free')\n",
        "if saving > 10000:\n",
        "    print('Free')\n",
        "print('$50')"
      ],
      "metadata": {
        "id": "j4meCCg87Lvx"
      },
      "execution_count": null,
      "outputs": []
    },
    {
      "cell_type": "markdown",
      "source": [
        "請用最佳寫法"
      ],
      "metadata": {
        "id": "ioDXyr0M7Mox"
      }
    },
    {
      "cell_type": "code",
      "source": [
        "age = int(input(\"age:\"))\n",
        "level = int(input(\"level:\"))\n",
        "saving = int(input(\"saving:\"))\n",
        "if age < 12:\n",
        "    print('Free')\n",
        "if level > 3:\n",
        "    print('Free')\n",
        "if saving > 10000:\n",
        "    print('Free')\n",
        "print('$50')"
      ],
      "metadata": {
        "id": "KOn1PLSq7T0f"
      },
      "execution_count": null,
      "outputs": []
    }
  ]
}